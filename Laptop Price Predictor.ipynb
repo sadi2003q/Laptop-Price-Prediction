{
 "cells": [
  {
   "cell_type": "code",
   "execution_count": 328,
   "id": "initial_id",
   "metadata": {
    "collapsed": true,
    "ExecuteTime": {
     "end_time": "2024-07-02T08:47:03.670692Z",
     "start_time": "2024-07-02T08:47:03.660862Z"
    }
   },
   "outputs": [],
   "source": [
    "import pickle \n",
    "import pandas as pd\n",
    "import numpy as np\n",
    "import re\n",
    "import matplotlib.pyplot as plt\n",
    "import seaborn as sns\n",
    "\n",
    "from sklearn.model_selection import train_test_split as split\n",
    "from sklearn.compose import ColumnTransformer\n",
    "from sklearn.pipeline import Pipeline\n",
    "from sklearn.preprocessing import OneHotEncoder\n",
    "from sklearn.ensemble import VotingRegressor,StackingRegressor\n",
    "\n",
    "from sklearn.linear_model import LinearRegression,Ridge,Lasso\n",
    "from sklearn.neighbors import KNeighborsRegressor\n",
    "from sklearn.tree import DecisionTreeRegressor\n",
    "from sklearn.ensemble import RandomForestRegressor,GradientBoostingRegressor,AdaBoostRegressor,ExtraTreesRegressor\n",
    "from sklearn.svm import SVR\n",
    "\n",
    "from sklearn.metrics import r2_score\n",
    "from sklearn.metrics import mean_absolute_error"
   ]
  },
  {
   "cell_type": "markdown",
   "source": [
    "## Data Collection"
   ],
   "metadata": {
    "collapsed": false
   },
   "id": "15023be62c81670e"
  },
  {
   "cell_type": "code",
   "outputs": [],
   "source": [
    "df = pd.read_csv('laptop_data.csv')"
   ],
   "metadata": {
    "collapsed": false,
    "ExecuteTime": {
     "end_time": "2024-07-02T08:47:04.298340Z",
     "start_time": "2024-07-02T08:47:04.289359Z"
    }
   },
   "id": "2665de9afcdf1d63",
   "execution_count": 329
  },
  {
   "cell_type": "markdown",
   "source": [
    "## Data Cleaning"
   ],
   "metadata": {
    "collapsed": false
   },
   "id": "24ffdf3272aba3f2"
  },
  {
   "cell_type": "code",
   "outputs": [],
   "source": [
    "df = df.drop(columns=['Unnamed: 0'])"
   ],
   "metadata": {
    "collapsed": false,
    "ExecuteTime": {
     "end_time": "2024-07-02T08:47:04.347197Z",
     "start_time": "2024-07-02T08:47:04.344368Z"
    }
   },
   "id": "707633c8a154a281",
   "execution_count": 330
  },
  {
   "cell_type": "code",
   "outputs": [
    {
     "name": "stdout",
     "output_type": "stream",
     "text": [
      "<class 'pandas.core.frame.DataFrame'>\n",
      "RangeIndex: 1303 entries, 0 to 1302\n",
      "Data columns (total 11 columns):\n",
      " #   Column            Non-Null Count  Dtype  \n",
      "---  ------            --------------  -----  \n",
      " 0   Company           1303 non-null   object \n",
      " 1   TypeName          1303 non-null   object \n",
      " 2   Inches            1303 non-null   float64\n",
      " 3   ScreenResolution  1303 non-null   object \n",
      " 4   Cpu               1303 non-null   object \n",
      " 5   Ram               1303 non-null   object \n",
      " 6   Memory            1303 non-null   object \n",
      " 7   Gpu               1303 non-null   object \n",
      " 8   OpSys             1303 non-null   object \n",
      " 9   Weight            1303 non-null   object \n",
      " 10  Price             1303 non-null   float64\n",
      "dtypes: float64(2), object(9)\n",
      "memory usage: 112.1+ KB\n"
     ]
    }
   ],
   "source": [
    "df.info()"
   ],
   "metadata": {
    "collapsed": false,
    "ExecuteTime": {
     "end_time": "2024-07-02T08:47:04.410246Z",
     "start_time": "2024-07-02T08:47:04.404014Z"
    }
   },
   "id": "33eb4ca629b13133",
   "execution_count": 331
  },
  {
   "cell_type": "code",
   "outputs": [],
   "source": [
    "imported_df = df"
   ],
   "metadata": {
    "collapsed": false,
    "ExecuteTime": {
     "end_time": "2024-07-02T08:47:04.447901Z",
     "start_time": "2024-07-02T08:47:04.446007Z"
    }
   },
   "id": "484779a98ed24082",
   "execution_count": 332
  },
  {
   "cell_type": "code",
   "outputs": [
    {
     "data": {
      "text/plain": "  Company   TypeName  Inches                    ScreenResolution  \\\n0   Apple  Ultrabook    13.3  IPS Panel Retina Display 2560x1600   \n1   Apple  Ultrabook    13.3                            1440x900   \n2      HP   Notebook    15.6                   Full HD 1920x1080   \n3   Apple  Ultrabook    15.4  IPS Panel Retina Display 2880x1800   \n4   Apple  Ultrabook    13.3  IPS Panel Retina Display 2560x1600   \n\n                          Cpu   Ram               Memory  \\\n0        Intel Core i5 2.3GHz   8GB            128GB SSD   \n1        Intel Core i5 1.8GHz   8GB  128GB Flash Storage   \n2  Intel Core i5 7200U 2.5GHz   8GB            256GB SSD   \n3        Intel Core i7 2.7GHz  16GB            512GB SSD   \n4        Intel Core i5 3.1GHz   8GB            256GB SSD   \n\n                            Gpu  OpSys  Weight        Price  \n0  Intel Iris Plus Graphics 640  macOS  1.37kg   71378.6832  \n1        Intel HD Graphics 6000  macOS  1.34kg   47895.5232  \n2         Intel HD Graphics 620  No OS  1.86kg   30636.0000  \n3            AMD Radeon Pro 455  macOS  1.83kg  135195.3360  \n4  Intel Iris Plus Graphics 650  macOS  1.37kg   96095.8080  ",
      "text/html": "<div>\n<style scoped>\n    .dataframe tbody tr th:only-of-type {\n        vertical-align: middle;\n    }\n\n    .dataframe tbody tr th {\n        vertical-align: top;\n    }\n\n    .dataframe thead th {\n        text-align: right;\n    }\n</style>\n<table border=\"1\" class=\"dataframe\">\n  <thead>\n    <tr style=\"text-align: right;\">\n      <th></th>\n      <th>Company</th>\n      <th>TypeName</th>\n      <th>Inches</th>\n      <th>ScreenResolution</th>\n      <th>Cpu</th>\n      <th>Ram</th>\n      <th>Memory</th>\n      <th>Gpu</th>\n      <th>OpSys</th>\n      <th>Weight</th>\n      <th>Price</th>\n    </tr>\n  </thead>\n  <tbody>\n    <tr>\n      <th>0</th>\n      <td>Apple</td>\n      <td>Ultrabook</td>\n      <td>13.3</td>\n      <td>IPS Panel Retina Display 2560x1600</td>\n      <td>Intel Core i5 2.3GHz</td>\n      <td>8GB</td>\n      <td>128GB SSD</td>\n      <td>Intel Iris Plus Graphics 640</td>\n      <td>macOS</td>\n      <td>1.37kg</td>\n      <td>71378.6832</td>\n    </tr>\n    <tr>\n      <th>1</th>\n      <td>Apple</td>\n      <td>Ultrabook</td>\n      <td>13.3</td>\n      <td>1440x900</td>\n      <td>Intel Core i5 1.8GHz</td>\n      <td>8GB</td>\n      <td>128GB Flash Storage</td>\n      <td>Intel HD Graphics 6000</td>\n      <td>macOS</td>\n      <td>1.34kg</td>\n      <td>47895.5232</td>\n    </tr>\n    <tr>\n      <th>2</th>\n      <td>HP</td>\n      <td>Notebook</td>\n      <td>15.6</td>\n      <td>Full HD 1920x1080</td>\n      <td>Intel Core i5 7200U 2.5GHz</td>\n      <td>8GB</td>\n      <td>256GB SSD</td>\n      <td>Intel HD Graphics 620</td>\n      <td>No OS</td>\n      <td>1.86kg</td>\n      <td>30636.0000</td>\n    </tr>\n    <tr>\n      <th>3</th>\n      <td>Apple</td>\n      <td>Ultrabook</td>\n      <td>15.4</td>\n      <td>IPS Panel Retina Display 2880x1800</td>\n      <td>Intel Core i7 2.7GHz</td>\n      <td>16GB</td>\n      <td>512GB SSD</td>\n      <td>AMD Radeon Pro 455</td>\n      <td>macOS</td>\n      <td>1.83kg</td>\n      <td>135195.3360</td>\n    </tr>\n    <tr>\n      <th>4</th>\n      <td>Apple</td>\n      <td>Ultrabook</td>\n      <td>13.3</td>\n      <td>IPS Panel Retina Display 2560x1600</td>\n      <td>Intel Core i5 3.1GHz</td>\n      <td>8GB</td>\n      <td>256GB SSD</td>\n      <td>Intel Iris Plus Graphics 650</td>\n      <td>macOS</td>\n      <td>1.37kg</td>\n      <td>96095.8080</td>\n    </tr>\n  </tbody>\n</table>\n</div>"
     },
     "execution_count": 333,
     "metadata": {},
     "output_type": "execute_result"
    }
   ],
   "source": [
    "df.head()"
   ],
   "metadata": {
    "collapsed": false,
    "ExecuteTime": {
     "end_time": "2024-07-02T08:47:04.498354Z",
     "start_time": "2024-07-02T08:47:04.489258Z"
    }
   },
   "id": "2eacd51f3924e673",
   "execution_count": 333
  },
  {
   "cell_type": "code",
   "outputs": [],
   "source": [
    "df['Ram'] = df['Ram'].str.replace('GB', '')"
   ],
   "metadata": {
    "collapsed": false,
    "ExecuteTime": {
     "end_time": "2024-07-02T08:47:04.528283Z",
     "start_time": "2024-07-02T08:47:04.525476Z"
    }
   },
   "id": "e67faa64cbc00f",
   "execution_count": 334
  },
  {
   "cell_type": "code",
   "outputs": [],
   "source": [
    "df['Weight'] = df['Weight'].str.replace('kg', '')"
   ],
   "metadata": {
    "collapsed": false,
    "ExecuteTime": {
     "end_time": "2024-07-02T08:47:04.571705Z",
     "start_time": "2024-07-02T08:47:04.569131Z"
    }
   },
   "id": "4e5f2a705437f54a",
   "execution_count": 335
  },
  {
   "cell_type": "code",
   "outputs": [],
   "source": [
    "df['Ram'] = df['Ram'].astype('int32')\n",
    "df['Weight'] = df['Weight'].astype('float32')"
   ],
   "metadata": {
    "collapsed": false,
    "ExecuteTime": {
     "end_time": "2024-07-02T08:47:04.622542Z",
     "start_time": "2024-07-02T08:47:04.620365Z"
    }
   },
   "id": "1f5b5aa39027a0e5",
   "execution_count": 336
  },
  {
   "cell_type": "markdown",
   "source": [
    "# Null Value"
   ],
   "metadata": {
    "collapsed": false
   },
   "id": "2a06d6b5e7ab200a"
  },
  {
   "cell_type": "code",
   "outputs": [
    {
     "data": {
      "text/plain": "Company             0\nTypeName            0\nInches              0\nScreenResolution    0\nCpu                 0\nRam                 0\nMemory              0\nGpu                 0\nOpSys               0\nWeight              0\nPrice               0\ndtype: int64"
     },
     "execution_count": 337,
     "metadata": {},
     "output_type": "execute_result"
    }
   ],
   "source": [
    "df.isnull().sum()"
   ],
   "metadata": {
    "collapsed": false,
    "ExecuteTime": {
     "end_time": "2024-07-02T08:47:04.697848Z",
     "start_time": "2024-07-02T08:47:04.694495Z"
    }
   },
   "id": "7b2b4f484817cefa",
   "execution_count": 337
  },
  {
   "cell_type": "markdown",
   "source": [
    "# Duplicate Value"
   ],
   "metadata": {
    "collapsed": false
   },
   "id": "e87160a273f8335e"
  },
  {
   "cell_type": "code",
   "outputs": [
    {
     "data": {
      "text/plain": "np.int64(29)"
     },
     "execution_count": 338,
     "metadata": {},
     "output_type": "execute_result"
    }
   ],
   "source": [
    "df.duplicated().sum()"
   ],
   "metadata": {
    "collapsed": false,
    "ExecuteTime": {
     "end_time": "2024-07-02T08:47:04.754436Z",
     "start_time": "2024-07-02T08:47:04.750441Z"
    }
   },
   "id": "583be31120f11800",
   "execution_count": 338
  },
  {
   "cell_type": "markdown",
   "source": [
    "## Exploratory Data Analysis"
   ],
   "metadata": {
    "collapsed": false
   },
   "id": "81f2cfbebc45bc59"
  },
  {
   "cell_type": "code",
   "outputs": [
    {
     "data": {
      "text/plain": "  Company   TypeName  Inches                    ScreenResolution  \\\n0   Apple  Ultrabook    13.3  IPS Panel Retina Display 2560x1600   \n1   Apple  Ultrabook    13.3                            1440x900   \n2      HP   Notebook    15.6                   Full HD 1920x1080   \n3   Apple  Ultrabook    15.4  IPS Panel Retina Display 2880x1800   \n4   Apple  Ultrabook    13.3  IPS Panel Retina Display 2560x1600   \n\n                          Cpu  Ram               Memory  \\\n0        Intel Core i5 2.3GHz    8            128GB SSD   \n1        Intel Core i5 1.8GHz    8  128GB Flash Storage   \n2  Intel Core i5 7200U 2.5GHz    8            256GB SSD   \n3        Intel Core i7 2.7GHz   16            512GB SSD   \n4        Intel Core i5 3.1GHz    8            256GB SSD   \n\n                            Gpu  OpSys  Weight        Price  \n0  Intel Iris Plus Graphics 640  macOS    1.37   71378.6832  \n1        Intel HD Graphics 6000  macOS    1.34   47895.5232  \n2         Intel HD Graphics 620  No OS    1.86   30636.0000  \n3            AMD Radeon Pro 455  macOS    1.83  135195.3360  \n4  Intel Iris Plus Graphics 650  macOS    1.37   96095.8080  ",
      "text/html": "<div>\n<style scoped>\n    .dataframe tbody tr th:only-of-type {\n        vertical-align: middle;\n    }\n\n    .dataframe tbody tr th {\n        vertical-align: top;\n    }\n\n    .dataframe thead th {\n        text-align: right;\n    }\n</style>\n<table border=\"1\" class=\"dataframe\">\n  <thead>\n    <tr style=\"text-align: right;\">\n      <th></th>\n      <th>Company</th>\n      <th>TypeName</th>\n      <th>Inches</th>\n      <th>ScreenResolution</th>\n      <th>Cpu</th>\n      <th>Ram</th>\n      <th>Memory</th>\n      <th>Gpu</th>\n      <th>OpSys</th>\n      <th>Weight</th>\n      <th>Price</th>\n    </tr>\n  </thead>\n  <tbody>\n    <tr>\n      <th>0</th>\n      <td>Apple</td>\n      <td>Ultrabook</td>\n      <td>13.3</td>\n      <td>IPS Panel Retina Display 2560x1600</td>\n      <td>Intel Core i5 2.3GHz</td>\n      <td>8</td>\n      <td>128GB SSD</td>\n      <td>Intel Iris Plus Graphics 640</td>\n      <td>macOS</td>\n      <td>1.37</td>\n      <td>71378.6832</td>\n    </tr>\n    <tr>\n      <th>1</th>\n      <td>Apple</td>\n      <td>Ultrabook</td>\n      <td>13.3</td>\n      <td>1440x900</td>\n      <td>Intel Core i5 1.8GHz</td>\n      <td>8</td>\n      <td>128GB Flash Storage</td>\n      <td>Intel HD Graphics 6000</td>\n      <td>macOS</td>\n      <td>1.34</td>\n      <td>47895.5232</td>\n    </tr>\n    <tr>\n      <th>2</th>\n      <td>HP</td>\n      <td>Notebook</td>\n      <td>15.6</td>\n      <td>Full HD 1920x1080</td>\n      <td>Intel Core i5 7200U 2.5GHz</td>\n      <td>8</td>\n      <td>256GB SSD</td>\n      <td>Intel HD Graphics 620</td>\n      <td>No OS</td>\n      <td>1.86</td>\n      <td>30636.0000</td>\n    </tr>\n    <tr>\n      <th>3</th>\n      <td>Apple</td>\n      <td>Ultrabook</td>\n      <td>15.4</td>\n      <td>IPS Panel Retina Display 2880x1800</td>\n      <td>Intel Core i7 2.7GHz</td>\n      <td>16</td>\n      <td>512GB SSD</td>\n      <td>AMD Radeon Pro 455</td>\n      <td>macOS</td>\n      <td>1.83</td>\n      <td>135195.3360</td>\n    </tr>\n    <tr>\n      <th>4</th>\n      <td>Apple</td>\n      <td>Ultrabook</td>\n      <td>13.3</td>\n      <td>IPS Panel Retina Display 2560x1600</td>\n      <td>Intel Core i5 3.1GHz</td>\n      <td>8</td>\n      <td>256GB SSD</td>\n      <td>Intel Iris Plus Graphics 650</td>\n      <td>macOS</td>\n      <td>1.37</td>\n      <td>96095.8080</td>\n    </tr>\n  </tbody>\n</table>\n</div>"
     },
     "execution_count": 339,
     "metadata": {},
     "output_type": "execute_result"
    }
   ],
   "source": [
    "df.head()"
   ],
   "metadata": {
    "collapsed": false,
    "ExecuteTime": {
     "end_time": "2024-07-02T08:47:04.814038Z",
     "start_time": "2024-07-02T08:47:04.808610Z"
    }
   },
   "id": "12a1ca9786dd1c1d",
   "execution_count": 339
  },
  {
   "cell_type": "code",
   "outputs": [
    {
     "name": "stderr",
     "output_type": "stream",
     "text": [
      "/var/folders/c4/g4th1y192hlgglxhh6s94n8m0000gn/T/ipykernel_22312/3558223608.py:1: UserWarning: \n",
      "\n",
      "`distplot` is a deprecated function and will be removed in seaborn v0.14.0.\n",
      "\n",
      "Please adapt your code to use either `displot` (a figure-level function with\n",
      "similar flexibility) or `kdeplot` (an axes-level function for kernel density plots).\n",
      "\n",
      "For a guide to updating your code to use the new functions, please see\n",
      "https://gist.github.com/mwaskom/de44147ed2974457ad6372750bbe5751\n",
      "\n",
      "  sns.distplot(df['Price'], hist=False)\n"
     ]
    },
    {
     "data": {
      "text/plain": "<Axes: xlabel='Price', ylabel='Density'>"
     },
     "execution_count": 340,
     "metadata": {},
     "output_type": "execute_result"
    },
    {
     "data": {
      "text/plain": "<Figure size 640x480 with 1 Axes>",
      "image/png": "[encoded data removed]"
     },
     "metadata": {},
     "output_type": "display_data"
    }
   ],
   "source": [
    "sns.distplot(df['Price'], hist=False)"
   ],
   "metadata": {
    "collapsed": false,
    "ExecuteTime": {
     "end_time": "2024-07-02T08:47:04.952804Z",
     "start_time": "2024-07-02T08:47:04.846574Z"
    }
   },
   "id": "2931687fdcf94aec",
   "execution_count": 340
  },
  {
   "cell_type": "code",
   "outputs": [
    {
     "data": {
      "text/plain": "<Figure size 640x480 with 1 Axes>",
      "image/png": "[encoded data removed]"
     },
     "metadata": {},
     "output_type": "display_data"
    }
   ],
   "source": [
    "sns.barplot(df['Company'].value_counts())\n",
    "plt.xticks(rotation=70)\n",
    "plt.show()"
   ],
   "metadata": {
    "collapsed": false,
    "ExecuteTime": {
     "end_time": "2024-07-02T08:47:05.063556Z",
     "start_time": "2024-07-02T08:47:04.954222Z"
    }
   },
   "id": "3c226546e3df2c30",
   "execution_count": 341
  },
  {
   "cell_type": "code",
   "outputs": [
    {
     "data": {
      "text/plain": "<Figure size 640x480 with 1 Axes>",
      "image/png": "[encoded data removed]"
     },
     "metadata": {},
     "output_type": "display_data"
    }
   ],
   "source": [
    "sns.barplot(data = df , x='Company', y='Price')\n",
    "plt.xticks(rotation=90)\n",
    "plt.show()"
   ],
   "metadata": {
    "collapsed": false,
    "ExecuteTime": {
     "end_time": "2024-07-02T08:47:05.326297Z",
     "start_time": "2024-07-02T08:47:05.064647Z"
    }
   },
   "id": "5da490fb0e4b8ccd",
   "execution_count": 342
  },
  {
   "cell_type": "code",
   "outputs": [
    {
     "data": {
      "text/plain": "<Figure size 640x480 with 1 Axes>",
      "image/png": "[encoded data removed]"
     },
     "metadata": {},
     "output_type": "display_data"
    }
   ],
   "source": [
    "sns.barplot(data = df , x='OpSys', y='Price')\n",
    "plt.xticks(rotation=90)\n",
    "plt.show()"
   ],
   "metadata": {
    "collapsed": false,
    "ExecuteTime": {
     "end_time": "2024-07-02T08:47:05.493958Z",
     "start_time": "2024-07-02T08:47:05.327807Z"
    }
   },
   "id": "562511640e5b19de",
   "execution_count": 343
  },
  {
   "cell_type": "code",
   "outputs": [
    {
     "data": {
      "text/plain": "<Figure size 640x480 with 1 Axes>",
      "image/png": "[encoded data removed]"
     },
     "metadata": {},
     "output_type": "display_data"
    }
   ],
   "source": [
    "sns.barplot(data = df , x='TypeName', y='Price')\n",
    "plt.xticks(rotation=45)\n",
    "plt.show()"
   ],
   "metadata": {
    "collapsed": false,
    "ExecuteTime": {
     "end_time": "2024-07-02T08:47:05.605272Z",
     "start_time": "2024-07-02T08:47:05.494676Z"
    }
   },
   "id": "aa52fd93d105ebe8",
   "execution_count": 344
  },
  {
   "cell_type": "code",
   "outputs": [
    {
     "data": {
      "text/plain": "<Figure size 640x480 with 1 Axes>",
      "image/png": "[encoded data removed]"
     },
     "metadata": {},
     "output_type": "display_data"
    }
   ],
   "source": [
    "sns.scatterplot(data = df , x='Inches', y='Price')\n",
    "plt.xticks(rotation=45)\n",
    "plt.show()"
   ],
   "metadata": {
    "collapsed": false,
    "ExecuteTime": {
     "end_time": "2024-07-02T08:47:05.677544Z",
     "start_time": "2024-07-02T08:47:05.607293Z"
    }
   },
   "id": "20717c7271d6bc10",
   "execution_count": 345
  },
  {
   "cell_type": "markdown",
   "source": [
    "# Feature Engineering"
   ],
   "metadata": {
    "collapsed": false
   },
   "id": "6caae1742e2aba97"
  },
  {
   "cell_type": "markdown",
   "source": [
    "## Screen Resolution Column"
   ],
   "metadata": {
    "collapsed": false
   },
   "id": "52bcf5e2c779de29"
  },
  {
   "cell_type": "code",
   "outputs": [
    {
     "data": {
      "text/plain": "ScreenResolution\nFull HD 1920x1080                                507\n1366x768                                         281\nIPS Panel Full HD 1920x1080                      230\nIPS Panel Full HD / Touchscreen 1920x1080         53\nFull HD / Touchscreen 1920x1080                   47\n1600x900                                          23\nTouchscreen 1366x768                              16\nQuad HD+ / Touchscreen 3200x1800                  15\nIPS Panel 4K Ultra HD 3840x2160                   12\nIPS Panel 4K Ultra HD / Touchscreen 3840x2160     11\n4K Ultra HD / Touchscreen 3840x2160               10\n4K Ultra HD 3840x2160                              7\nTouchscreen 2560x1440                              7\nIPS Panel 1366x768                                 7\nIPS Panel Quad HD+ / Touchscreen 3200x1800         6\nIPS Panel Retina Display 2560x1600                 6\nIPS Panel Retina Display 2304x1440                 6\nTouchscreen 2256x1504                              6\nIPS Panel Touchscreen 2560x1440                    5\nIPS Panel Retina Display 2880x1800                 4\nIPS Panel Touchscreen 1920x1200                    4\n1440x900                                           4\nIPS Panel 2560x1440                                4\nIPS Panel Quad HD+ 2560x1440                       3\nQuad HD+ 3200x1800                                 3\n1920x1080                                          3\nTouchscreen 2400x1600                              3\n2560x1440                                          3\nIPS Panel Touchscreen 1366x768                     3\nIPS Panel Touchscreen / 4K Ultra HD 3840x2160      2\nIPS Panel Full HD 2160x1440                        2\nIPS Panel Quad HD+ 3200x1800                       2\nIPS Panel Retina Display 2736x1824                 1\nIPS Panel Full HD 1920x1200                        1\nIPS Panel Full HD 2560x1440                        1\nIPS Panel Full HD 1366x768                         1\nTouchscreen / Full HD 1920x1080                    1\nTouchscreen / Quad HD+ 3200x1800                   1\nTouchscreen / 4K Ultra HD 3840x2160                1\nIPS Panel Touchscreen 2400x1600                    1\nName: count, dtype: int64"
     },
     "execution_count": 346,
     "metadata": {},
     "output_type": "execute_result"
    }
   ],
   "source": [
    "df['ScreenResolution'].value_counts()"
   ],
   "metadata": {
    "collapsed": false,
    "ExecuteTime": {
     "end_time": "2024-07-02T08:47:05.681482Z",
     "start_time": "2024-07-02T08:47:05.678285Z"
    }
   },
   "id": "e57680e034b30ce3",
   "execution_count": 346
  },
  {
   "cell_type": "code",
   "outputs": [],
   "source": [
    "df['isTouchScreen'] = df['ScreenResolution'].apply(lambda x:1 if 'Touchscreen' in x else 0)\n",
    "df['isIPS'] = df['ScreenResolution'].apply(lambda x:1 if 'IPS Panel' in x else 0)\n",
    "df['is4K'] = df['ScreenResolution'].apply(lambda x:1 if '4K' in x else 0)\n"
   ],
   "metadata": {
    "collapsed": false,
    "ExecuteTime": {
     "end_time": "2024-07-02T08:47:05.685826Z",
     "start_time": "2024-07-02T08:47:05.682044Z"
    }
   },
   "id": "d6fbc20156bf1669",
   "execution_count": 347
  },
  {
   "cell_type": "code",
   "outputs": [
    {
     "data": {
      "text/plain": "<Axes: xlabel='isIPS', ylabel='Price'>"
     },
     "execution_count": 348,
     "metadata": {},
     "output_type": "execute_result"
    },
    {
     "data": {
      "text/plain": "<Figure size 640x480 with 1 Axes>",
      "image/png": "[encoded data removed]"
     },
     "metadata": {},
     "output_type": "display_data"
    }
   ],
   "source": [
    "sns.barplot(data = df , x='isIPS', y='Price')"
   ],
   "metadata": {
    "collapsed": false,
    "ExecuteTime": {
     "end_time": "2024-07-02T08:47:05.766192Z",
     "start_time": "2024-07-02T08:47:05.686413Z"
    }
   },
   "id": "e1c6762f532511a3",
   "execution_count": 348
  },
  {
   "cell_type": "code",
   "outputs": [
    {
     "data": {
      "text/plain": "<Axes: xlabel='is4K', ylabel='Price'>"
     },
     "execution_count": 349,
     "metadata": {},
     "output_type": "execute_result"
    },
    {
     "data": {
      "text/plain": "<Figure size 640x480 with 1 Axes>",
      "image/png": "[encoded data removed]"
     },
     "metadata": {},
     "output_type": "display_data"
    }
   ],
   "source": [
    "sns.barplot(data = df , x='is4K', y='Price')"
   ],
   "metadata": {
    "collapsed": false,
    "ExecuteTime": {
     "end_time": "2024-07-02T08:47:05.848833Z",
     "start_time": "2024-07-02T08:47:05.768056Z"
    }
   },
   "id": "3377bafda36b01f3",
   "execution_count": 349
  },
  {
   "cell_type": "code",
   "outputs": [
    {
     "data": {
      "text/plain": "<Axes: xlabel='isTouchScreen', ylabel='Price'>"
     },
     "execution_count": 350,
     "metadata": {},
     "output_type": "execute_result"
    },
    {
     "data": {
      "text/plain": "<Figure size 640x480 with 1 Axes>",
      "image/png": "[encoded data removed]"
     },
     "metadata": {},
     "output_type": "display_data"
    }
   ],
   "source": [
    "sns.barplot(data = df , x='isTouchScreen', y='Price')"
   ],
   "metadata": {
    "collapsed": false,
    "ExecuteTime": {
     "end_time": "2024-07-02T08:47:05.935158Z",
     "start_time": "2024-07-02T08:47:05.849672Z"
    }
   },
   "id": "bbc108159ba02b18",
   "execution_count": 350
  },
  {
   "cell_type": "code",
   "outputs": [],
   "source": [
    "temp_df = df['ScreenResolution'].str.split('x', n=1, expand=True)"
   ],
   "metadata": {
    "collapsed": false,
    "ExecuteTime": {
     "end_time": "2024-07-02T08:47:05.943397Z",
     "start_time": "2024-07-02T08:47:05.937815Z"
    }
   },
   "id": "d362f75c52d8f0f2",
   "execution_count": 351
  },
  {
   "cell_type": "code",
   "outputs": [
    {
     "data": {
      "text/plain": "(1303, 2)"
     },
     "execution_count": 352,
     "metadata": {},
     "output_type": "execute_result"
    }
   ],
   "source": [
    "temp_df.shape"
   ],
   "metadata": {
    "collapsed": false,
    "ExecuteTime": {
     "end_time": "2024-07-02T08:47:05.947216Z",
     "start_time": "2024-07-02T08:47:05.944133Z"
    }
   },
   "id": "44c11ec262740c95",
   "execution_count": 352
  },
  {
   "cell_type": "code",
   "outputs": [],
   "source": [
    "temp_df[0] = temp_df[0].str[-4:]"
   ],
   "metadata": {
    "collapsed": false,
    "ExecuteTime": {
     "end_time": "2024-07-02T08:47:05.953112Z",
     "start_time": "2024-07-02T08:47:05.948287Z"
    }
   },
   "id": "33f3d8111f48332b",
   "execution_count": 353
  },
  {
   "cell_type": "code",
   "outputs": [
    {
     "data": {
      "text/plain": "(1303, 2)"
     },
     "execution_count": 354,
     "metadata": {},
     "output_type": "execute_result"
    }
   ],
   "source": [
    "temp_df.shape"
   ],
   "metadata": {
    "collapsed": false,
    "ExecuteTime": {
     "end_time": "2024-07-02T08:47:05.956802Z",
     "start_time": "2024-07-02T08:47:05.953885Z"
    }
   },
   "id": "26cd78013e79b024",
   "execution_count": 354
  },
  {
   "cell_type": "code",
   "outputs": [],
   "source": [
    "df['x_Resolution'] = temp_df[0]\n",
    "df['y_Resolution'] = temp_df[1]"
   ],
   "metadata": {
    "collapsed": false,
    "ExecuteTime": {
     "end_time": "2024-07-02T08:47:05.960676Z",
     "start_time": "2024-07-02T08:47:05.957687Z"
    }
   },
   "id": "36159282c2871f1e",
   "execution_count": 355
  },
  {
   "cell_type": "code",
   "outputs": [
    {
     "name": "stdout",
     "output_type": "stream",
     "text": [
      "<class 'pandas.core.frame.DataFrame'>\n",
      "RangeIndex: 1303 entries, 0 to 1302\n",
      "Data columns (total 16 columns):\n",
      " #   Column            Non-Null Count  Dtype  \n",
      "---  ------            --------------  -----  \n",
      " 0   Company           1303 non-null   object \n",
      " 1   TypeName          1303 non-null   object \n",
      " 2   Inches            1303 non-null   float64\n",
      " 3   ScreenResolution  1303 non-null   object \n",
      " 4   Cpu               1303 non-null   object \n",
      " 5   Ram               1303 non-null   int32  \n",
      " 6   Memory            1303 non-null   object \n",
      " 7   Gpu               1303 non-null   object \n",
      " 8   OpSys             1303 non-null   object \n",
      " 9   Weight            1303 non-null   float32\n",
      " 10  Price             1303 non-null   float64\n",
      " 11  isTouchScreen     1303 non-null   int64  \n",
      " 12  isIPS             1303 non-null   int64  \n",
      " 13  is4K              1303 non-null   int64  \n",
      " 14  x_Resolution      1303 non-null   object \n",
      " 15  y_Resolution      1303 non-null   object \n",
      "dtypes: float32(1), float64(2), int32(1), int64(3), object(9)\n",
      "memory usage: 152.8+ KB\n"
     ]
    }
   ],
   "source": [
    "df.info()"
   ],
   "metadata": {
    "collapsed": false,
    "ExecuteTime": {
     "end_time": "2024-07-02T08:47:05.966059Z",
     "start_time": "2024-07-02T08:47:05.961261Z"
    }
   },
   "id": "d7c5eff9f4c87124",
   "execution_count": 356
  },
  {
   "cell_type": "code",
   "outputs": [],
   "source": [
    "df['x_Resolution'] = df['x_Resolution'].astype('int32')\n",
    "df['y_Resolution'] = df['y_Resolution'].astype('int32')"
   ],
   "metadata": {
    "collapsed": false,
    "ExecuteTime": {
     "end_time": "2024-07-02T08:47:05.969482Z",
     "start_time": "2024-07-02T08:47:05.967420Z"
    }
   },
   "id": "262580bc4b0bafca",
   "execution_count": 357
  },
  {
   "cell_type": "code",
   "outputs": [],
   "source": [
    "df['PPI'] = ((df['x_Resolution']**2 + df['y_Resolution']**2)**0.5)/df['Inches']"
   ],
   "metadata": {
    "collapsed": false,
    "ExecuteTime": {
     "end_time": "2024-07-02T08:47:06.096365Z",
     "start_time": "2024-07-02T08:47:06.093642Z"
    }
   },
   "id": "9253a6e522087b7f",
   "execution_count": 358
  },
  {
   "cell_type": "code",
   "outputs": [],
   "source": [
    "df = df.drop(columns=['x_Resolution', 'y_Resolution', 'Inches', 'ScreenResolution'])"
   ],
   "metadata": {
    "collapsed": false,
    "ExecuteTime": {
     "end_time": "2024-07-02T08:47:06.235855Z",
     "start_time": "2024-07-02T08:47:06.233481Z"
    }
   },
   "id": "a74541964b7bf91a",
   "execution_count": 359
  },
  {
   "cell_type": "code",
   "outputs": [
    {
     "name": "stdout",
     "output_type": "stream",
     "text": [
      "<class 'pandas.core.frame.DataFrame'>\n",
      "RangeIndex: 1303 entries, 0 to 1302\n",
      "Data columns (total 13 columns):\n",
      " #   Column         Non-Null Count  Dtype  \n",
      "---  ------         --------------  -----  \n",
      " 0   Company        1303 non-null   object \n",
      " 1   TypeName       1303 non-null   object \n",
      " 2   Cpu            1303 non-null   object \n",
      " 3   Ram            1303 non-null   int32  \n",
      " 4   Memory         1303 non-null   object \n",
      " 5   Gpu            1303 non-null   object \n",
      " 6   OpSys          1303 non-null   object \n",
      " 7   Weight         1303 non-null   float32\n",
      " 8   Price          1303 non-null   float64\n",
      " 9   isTouchScreen  1303 non-null   int64  \n",
      " 10  isIPS          1303 non-null   int64  \n",
      " 11  is4K           1303 non-null   int64  \n",
      " 12  PPI            1303 non-null   float64\n",
      "dtypes: float32(1), float64(2), int32(1), int64(3), object(6)\n",
      "memory usage: 122.3+ KB\n"
     ]
    }
   ],
   "source": [
    "df.info()"
   ],
   "metadata": {
    "collapsed": false,
    "ExecuteTime": {
     "end_time": "2024-07-02T08:47:06.269368Z",
     "start_time": "2024-07-02T08:47:06.264696Z"
    }
   },
   "id": "4be4ba4904cf1c31",
   "execution_count": 360
  },
  {
   "cell_type": "code",
   "outputs": [
    {
     "data": {
      "text/plain": "  Company   TypeName                         Cpu  Ram               Memory  \\\n0   Apple  Ultrabook        Intel Core i5 2.3GHz    8            128GB SSD   \n1   Apple  Ultrabook        Intel Core i5 1.8GHz    8  128GB Flash Storage   \n2      HP   Notebook  Intel Core i5 7200U 2.5GHz    8            256GB SSD   \n3   Apple  Ultrabook        Intel Core i7 2.7GHz   16            512GB SSD   \n4   Apple  Ultrabook        Intel Core i5 3.1GHz    8            256GB SSD   \n\n                            Gpu  OpSys  Weight        Price  isTouchScreen  \\\n0  Intel Iris Plus Graphics 640  macOS    1.37   71378.6832              0   \n1        Intel HD Graphics 6000  macOS    1.34   47895.5232              0   \n2         Intel HD Graphics 620  No OS    1.86   30636.0000              0   \n3            AMD Radeon Pro 455  macOS    1.83  135195.3360              0   \n4  Intel Iris Plus Graphics 650  macOS    1.37   96095.8080              0   \n\n   isIPS  is4K         PPI  \n0      1     0  226.983005  \n1      0     0  127.677940  \n2      0     0  141.211998  \n3      1     0  220.534624  \n4      1     0  226.983005  ",
      "text/html": "<div>\n<style scoped>\n    .dataframe tbody tr th:only-of-type {\n        vertical-align: middle;\n    }\n\n    .dataframe tbody tr th {\n        vertical-align: top;\n    }\n\n    .dataframe thead th {\n        text-align: right;\n    }\n</style>\n<table border=\"1\" class=\"dataframe\">\n  <thead>\n    <tr style=\"text-align: right;\">\n      <th></th>\n      <th>Company</th>\n      <th>TypeName</th>\n      <th>Cpu</th>\n      <th>Ram</th>\n      <th>Memory</th>\n      <th>Gpu</th>\n      <th>OpSys</th>\n      <th>Weight</th>\n      <th>Price</th>\n      <th>isTouchScreen</th>\n      <th>isIPS</th>\n      <th>is4K</th>\n      <th>PPI</th>\n    </tr>\n  </thead>\n  <tbody>\n    <tr>\n      <th>0</th>\n      <td>Apple</td>\n      <td>Ultrabook</td>\n      <td>Intel Core i5 2.3GHz</td>\n      <td>8</td>\n      <td>128GB SSD</td>\n      <td>Intel Iris Plus Graphics 640</td>\n      <td>macOS</td>\n      <td>1.37</td>\n      <td>71378.6832</td>\n      <td>0</td>\n      <td>1</td>\n      <td>0</td>\n      <td>226.983005</td>\n    </tr>\n    <tr>\n      <th>1</th>\n      <td>Apple</td>\n      <td>Ultrabook</td>\n      <td>Intel Core i5 1.8GHz</td>\n      <td>8</td>\n      <td>128GB Flash Storage</td>\n      <td>Intel HD Graphics 6000</td>\n      <td>macOS</td>\n      <td>1.34</td>\n      <td>47895.5232</td>\n      <td>0</td>\n      <td>0</td>\n      <td>0</td>\n      <td>127.677940</td>\n    </tr>\n    <tr>\n      <th>2</th>\n      <td>HP</td>\n      <td>Notebook</td>\n      <td>Intel Core i5 7200U 2.5GHz</td>\n      <td>8</td>\n      <td>256GB SSD</td>\n      <td>Intel HD Graphics 620</td>\n      <td>No OS</td>\n      <td>1.86</td>\n      <td>30636.0000</td>\n      <td>0</td>\n      <td>0</td>\n      <td>0</td>\n      <td>141.211998</td>\n    </tr>\n    <tr>\n      <th>3</th>\n      <td>Apple</td>\n      <td>Ultrabook</td>\n      <td>Intel Core i7 2.7GHz</td>\n      <td>16</td>\n      <td>512GB SSD</td>\n      <td>AMD Radeon Pro 455</td>\n      <td>macOS</td>\n      <td>1.83</td>\n      <td>135195.3360</td>\n      <td>0</td>\n      <td>1</td>\n      <td>0</td>\n      <td>220.534624</td>\n    </tr>\n    <tr>\n      <th>4</th>\n      <td>Apple</td>\n      <td>Ultrabook</td>\n      <td>Intel Core i5 3.1GHz</td>\n      <td>8</td>\n      <td>256GB SSD</td>\n      <td>Intel Iris Plus Graphics 650</td>\n      <td>macOS</td>\n      <td>1.37</td>\n      <td>96095.8080</td>\n      <td>0</td>\n      <td>1</td>\n      <td>0</td>\n      <td>226.983005</td>\n    </tr>\n  </tbody>\n</table>\n</div>"
     },
     "execution_count": 361,
     "metadata": {},
     "output_type": "execute_result"
    }
   ],
   "source": [
    "df.head()"
   ],
   "metadata": {
    "collapsed": false,
    "ExecuteTime": {
     "end_time": "2024-07-02T08:47:06.324920Z",
     "start_time": "2024-07-02T08:47:06.319559Z"
    }
   },
   "id": "ceee58d991103d5b",
   "execution_count": 361
  },
  {
   "cell_type": "markdown",
   "source": [
    "## CPU Column"
   ],
   "metadata": {
    "collapsed": false
   },
   "id": "5545ad790819094f"
  },
  {
   "cell_type": "code",
   "outputs": [
    {
     "data": {
      "text/plain": "Cpu\nIntel Core i5 7200U 2.5GHz       190\nIntel Core i7 7700HQ 2.8GHz      146\nIntel Core i7 7500U 2.7GHz       134\nIntel Core i7 8550U 1.8GHz        73\nIntel Core i5 8250U 1.6GHz        72\n                                ... \nIntel Core M M3-6Y30 0.9GHz        1\nAMD A9-Series 9420 2.9GHz          1\nIntel Core i3 6006U 2.2GHz         1\nAMD A6-Series 7310 2GHz            1\nIntel Xeon E3-1535M v6 3.1GHz      1\nName: count, Length: 118, dtype: int64"
     },
     "execution_count": 362,
     "metadata": {},
     "output_type": "execute_result"
    }
   ],
   "source": [
    "df['Cpu'].value_counts()"
   ],
   "metadata": {
    "collapsed": false,
    "ExecuteTime": {
     "end_time": "2024-07-02T08:47:06.330456Z",
     "start_time": "2024-07-02T08:47:06.327552Z"
    }
   },
   "id": "de70edb082b98ad3",
   "execution_count": 362
  },
  {
   "cell_type": "code",
   "outputs": [],
   "source": [
    "df['Cpu'] = df['Cpu'].apply(lambda x: \" \".join(x.split()[:3]))"
   ],
   "metadata": {
    "collapsed": false,
    "ExecuteTime": {
     "end_time": "2024-07-02T08:47:06.352685Z",
     "start_time": "2024-07-02T08:47:06.350156Z"
    }
   },
   "id": "6fddfdae86b30666",
   "execution_count": 363
  },
  {
   "cell_type": "code",
   "outputs": [],
   "source": [
    "def Computer_processor(text):\n",
    "    if 'Intel Core i5' == text or 'Intel Core i7' == text or 'Intel Core i3' == text :\n",
    "        return text\n",
    "    elif text.split()[0] == 'Intel' :\n",
    "        return 'Other Intel Processor'\n",
    "    else :\n",
    "        return 'AMD Processor' "
   ],
   "metadata": {
    "collapsed": false,
    "ExecuteTime": {
     "end_time": "2024-07-02T08:47:06.428374Z",
     "start_time": "2024-07-02T08:47:06.426258Z"
    }
   },
   "id": "ff48e04e4ffea5bc",
   "execution_count": 364
  },
  {
   "cell_type": "code",
   "outputs": [],
   "source": [
    "df['Processor'] = df['Cpu'].apply(Computer_processor)"
   ],
   "metadata": {
    "collapsed": false,
    "ExecuteTime": {
     "end_time": "2024-07-02T08:47:06.477133Z",
     "start_time": "2024-07-02T08:47:06.474564Z"
    }
   },
   "id": "246e81257aabb709",
   "execution_count": 365
  },
  {
   "cell_type": "code",
   "outputs": [],
   "source": [
    "df = df.drop(columns='Cpu')"
   ],
   "metadata": {
    "collapsed": false,
    "ExecuteTime": {
     "end_time": "2024-07-02T08:47:06.568132Z",
     "start_time": "2024-07-02T08:47:06.565489Z"
    }
   },
   "id": "d78eedb1fdfaf96f",
   "execution_count": 366
  },
  {
   "cell_type": "code",
   "outputs": [
    {
     "data": {
      "text/plain": "Processor\nIntel Core i7            527\nIntel Core i5            423\nOther Intel Processor    154\nIntel Core i3            136\nAMD Processor             63\nName: count, dtype: int64"
     },
     "execution_count": 367,
     "metadata": {},
     "output_type": "execute_result"
    }
   ],
   "source": [
    "df['Processor'].value_counts()"
   ],
   "metadata": {
    "collapsed": false,
    "ExecuteTime": {
     "end_time": "2024-07-02T08:47:06.595742Z",
     "start_time": "2024-07-02T08:47:06.592718Z"
    }
   },
   "id": "9af1d92f5355695d",
   "execution_count": 367
  },
  {
   "cell_type": "code",
   "outputs": [
    {
     "data": {
      "text/plain": "  Company   TypeName  Ram               Memory                           Gpu  \\\n0   Apple  Ultrabook    8            128GB SSD  Intel Iris Plus Graphics 640   \n1   Apple  Ultrabook    8  128GB Flash Storage        Intel HD Graphics 6000   \n2      HP   Notebook    8            256GB SSD         Intel HD Graphics 620   \n3   Apple  Ultrabook   16            512GB SSD            AMD Radeon Pro 455   \n4   Apple  Ultrabook    8            256GB SSD  Intel Iris Plus Graphics 650   \n\n   OpSys  Weight        Price  isTouchScreen  isIPS  is4K         PPI  \\\n0  macOS    1.37   71378.6832              0      1     0  226.983005   \n1  macOS    1.34   47895.5232              0      0     0  127.677940   \n2  No OS    1.86   30636.0000              0      0     0  141.211998   \n3  macOS    1.83  135195.3360              0      1     0  220.534624   \n4  macOS    1.37   96095.8080              0      1     0  226.983005   \n\n       Processor  \n0  Intel Core i5  \n1  Intel Core i5  \n2  Intel Core i5  \n3  Intel Core i7  \n4  Intel Core i5  ",
      "text/html": "<div>\n<style scoped>\n    .dataframe tbody tr th:only-of-type {\n        vertical-align: middle;\n    }\n\n    .dataframe tbody tr th {\n        vertical-align: top;\n    }\n\n    .dataframe thead th {\n        text-align: right;\n    }\n</style>\n<table border=\"1\" class=\"dataframe\">\n  <thead>\n    <tr style=\"text-align: right;\">\n      <th></th>\n      <th>Company</th>\n      <th>TypeName</th>\n      <th>Ram</th>\n      <th>Memory</th>\n      <th>Gpu</th>\n      <th>OpSys</th>\n      <th>Weight</th>\n      <th>Price</th>\n      <th>isTouchScreen</th>\n      <th>isIPS</th>\n      <th>is4K</th>\n      <th>PPI</th>\n      <th>Processor</th>\n    </tr>\n  </thead>\n  <tbody>\n    <tr>\n      <th>0</th>\n      <td>Apple</td>\n      <td>Ultrabook</td>\n      <td>8</td>\n      <td>128GB SSD</td>\n      <td>Intel Iris Plus Graphics 640</td>\n      <td>macOS</td>\n      <td>1.37</td>\n      <td>71378.6832</td>\n      <td>0</td>\n      <td>1</td>\n      <td>0</td>\n      <td>226.983005</td>\n      <td>Intel Core i5</td>\n    </tr>\n    <tr>\n      <th>1</th>\n      <td>Apple</td>\n      <td>Ultrabook</td>\n      <td>8</td>\n      <td>128GB Flash Storage</td>\n      <td>Intel HD Graphics 6000</td>\n      <td>macOS</td>\n      <td>1.34</td>\n      <td>47895.5232</td>\n      <td>0</td>\n      <td>0</td>\n      <td>0</td>\n      <td>127.677940</td>\n      <td>Intel Core i5</td>\n    </tr>\n    <tr>\n      <th>2</th>\n      <td>HP</td>\n      <td>Notebook</td>\n      <td>8</td>\n      <td>256GB SSD</td>\n      <td>Intel HD Graphics 620</td>\n      <td>No OS</td>\n      <td>1.86</td>\n      <td>30636.0000</td>\n      <td>0</td>\n      <td>0</td>\n      <td>0</td>\n      <td>141.211998</td>\n      <td>Intel Core i5</td>\n    </tr>\n    <tr>\n      <th>3</th>\n      <td>Apple</td>\n      <td>Ultrabook</td>\n      <td>16</td>\n      <td>512GB SSD</td>\n      <td>AMD Radeon Pro 455</td>\n      <td>macOS</td>\n      <td>1.83</td>\n      <td>135195.3360</td>\n      <td>0</td>\n      <td>1</td>\n      <td>0</td>\n      <td>220.534624</td>\n      <td>Intel Core i7</td>\n    </tr>\n    <tr>\n      <th>4</th>\n      <td>Apple</td>\n      <td>Ultrabook</td>\n      <td>8</td>\n      <td>256GB SSD</td>\n      <td>Intel Iris Plus Graphics 650</td>\n      <td>macOS</td>\n      <td>1.37</td>\n      <td>96095.8080</td>\n      <td>0</td>\n      <td>1</td>\n      <td>0</td>\n      <td>226.983005</td>\n      <td>Intel Core i5</td>\n    </tr>\n  </tbody>\n</table>\n</div>"
     },
     "execution_count": 368,
     "metadata": {},
     "output_type": "execute_result"
    }
   ],
   "source": [
    "df.head()"
   ],
   "metadata": {
    "collapsed": false,
    "ExecuteTime": {
     "end_time": "2024-07-02T08:47:06.636022Z",
     "start_time": "2024-07-02T08:47:06.630359Z"
    }
   },
   "id": "73542818c3f50602",
   "execution_count": 368
  },
  {
   "cell_type": "code",
   "outputs": [
    {
     "data": {
      "text/plain": "<Axes: xlabel='Processor', ylabel='Price'>"
     },
     "execution_count": 369,
     "metadata": {},
     "output_type": "execute_result"
    },
    {
     "data": {
      "text/plain": "<Figure size 640x480 with 1 Axes>",
      "image/png": "[encoded data removed]"
     },
     "metadata": {},
     "output_type": "display_data"
    }
   ],
   "source": [
    "sns.barplot(data = df , x='Processor', y='Price')"
   ],
   "metadata": {
    "collapsed": false,
    "ExecuteTime": {
     "end_time": "2024-07-02T08:47:06.772230Z",
     "start_time": "2024-07-02T08:47:06.659273Z"
    }
   },
   "id": "64a24cdf534643cc",
   "execution_count": 369
  },
  {
   "cell_type": "markdown",
   "source": [
    "## Memory Column"
   ],
   "metadata": {
    "collapsed": false
   },
   "id": "12e09635c6438fb0"
  },
  {
   "cell_type": "code",
   "outputs": [
    {
     "data": {
      "text/plain": "Memory\n256GB SSD                        412\n1TB HDD                          223\n500GB HDD                        132\n512GB SSD                        118\n128GB SSD +  1TB HDD              94\n128GB SSD                         76\n256GB SSD +  1TB HDD              73\n32GB Flash Storage                38\n2TB HDD                           16\n64GB Flash Storage                15\n512GB SSD +  1TB HDD              14\n1TB SSD                           14\n256GB SSD +  2TB HDD              10\n1.0TB Hybrid                       9\n256GB Flash Storage                8\n16GB Flash Storage                 7\n32GB SSD                           6\n180GB SSD                          5\n128GB Flash Storage                4\n512GB SSD +  2TB HDD               3\n16GB SSD                           3\n512GB Flash Storage                2\n1TB SSD +  1TB HDD                 2\n256GB SSD +  500GB HDD             2\n128GB SSD +  2TB HDD               2\n256GB SSD +  256GB SSD             2\n512GB SSD +  256GB SSD             1\n512GB SSD +  512GB SSD             1\n64GB Flash Storage +  1TB HDD      1\n1TB HDD +  1TB HDD                 1\n32GB HDD                           1\n64GB SSD                           1\n128GB HDD                          1\n240GB SSD                          1\n8GB SSD                            1\n508GB Hybrid                       1\n1.0TB HDD                          1\n512GB SSD +  1.0TB Hybrid          1\n256GB SSD +  1.0TB Hybrid          1\nName: count, dtype: int64"
     },
     "execution_count": 370,
     "metadata": {},
     "output_type": "execute_result"
    }
   ],
   "source": [
    "df['Memory'].value_counts()"
   ],
   "metadata": {
    "collapsed": false,
    "ExecuteTime": {
     "end_time": "2024-07-02T08:47:06.778538Z",
     "start_time": "2024-07-02T08:47:06.774003Z"
    }
   },
   "id": "4eec333e7539710b",
   "execution_count": 370
  },
  {
   "cell_type": "code",
   "outputs": [],
   "source": [
    "df[\"Memory\"] = df[\"Memory\"].str.replace('GB', '')\n",
    "df[\"Memory\"] = df[\"Memory\"].str.replace('TB', '000')"
   ],
   "metadata": {
    "collapsed": false,
    "ExecuteTime": {
     "end_time": "2024-07-02T08:47:06.784196Z",
     "start_time": "2024-07-02T08:47:06.780081Z"
    }
   },
   "id": "13609151fa54c3b0",
   "execution_count": 371
  },
  {
   "cell_type": "code",
   "outputs": [],
   "source": [
    "def extract_number_before_target(text, target):\n",
    "    pattern = fr\"(\\d+)\\s{re.escape(target)}\"\n",
    "    match = re.search(pattern, text)\n",
    "    if match:\n",
    "        return match.group(1)\n",
    "    return 0"
   ],
   "metadata": {
    "collapsed": false,
    "ExecuteTime": {
     "end_time": "2024-07-02T08:47:06.878939Z",
     "start_time": "2024-07-02T08:47:06.877201Z"
    }
   },
   "id": "1167f9461e4fa9a5",
   "execution_count": 372
  },
  {
   "cell_type": "code",
   "outputs": [],
   "source": [
    "df['SSD'] = df['Memory'].apply(lambda x: extract_number_before_target(x, target='SSD'))\n",
    "df['HDD'] = df['Memory'].apply(lambda x: extract_number_before_target(x, target='HDD'))\n",
    "df['Flash_Storage'] = df['Memory'].apply(lambda x: extract_number_before_target(x, target='Flash'))\n",
    "df['Hybrid'] = df['Memory'].apply(lambda x: extract_number_before_target(x, target='Hybrid'))"
   ],
   "metadata": {
    "collapsed": false,
    "ExecuteTime": {
     "end_time": "2024-07-02T08:47:06.912503Z",
     "start_time": "2024-07-02T08:47:06.904722Z"
    }
   },
   "id": "9c6d8d6c5b25a8c6",
   "execution_count": 373
  },
  {
   "cell_type": "code",
   "outputs": [],
   "source": [
    "df= df.drop(columns='Memory')"
   ],
   "metadata": {
    "collapsed": false,
    "ExecuteTime": {
     "end_time": "2024-07-02T08:47:07.006295Z",
     "start_time": "2024-07-02T08:47:07.003832Z"
    }
   },
   "id": "1124daab0dc30ec9",
   "execution_count": 374
  },
  {
   "cell_type": "code",
   "outputs": [],
   "source": [
    "df['HDD'] = df['HDD'].astype('int32')\n",
    "df['SSD'] = df['SSD'].astype('int32')\n",
    "df['Hybrid'] = df['Hybrid'].astype('int32')\n",
    "df['Flash_Storage'] = df['Flash_Storage'].astype('int32')"
   ],
   "metadata": {
    "collapsed": false,
    "ExecuteTime": {
     "end_time": "2024-07-02T08:47:07.053633Z",
     "start_time": "2024-07-02T08:47:07.050993Z"
    }
   },
   "id": "aafec4c5a29be5ee",
   "execution_count": 375
  },
  {
   "cell_type": "code",
   "outputs": [
    {
     "data": {
      "text/plain": "  Company   TypeName  Ram                           Gpu  OpSys  Weight  \\\n0   Apple  Ultrabook    8  Intel Iris Plus Graphics 640  macOS    1.37   \n1   Apple  Ultrabook    8        Intel HD Graphics 6000  macOS    1.34   \n2      HP   Notebook    8         Intel HD Graphics 620  No OS    1.86   \n3   Apple  Ultrabook   16            AMD Radeon Pro 455  macOS    1.83   \n4   Apple  Ultrabook    8  Intel Iris Plus Graphics 650  macOS    1.37   \n\n         Price  isTouchScreen  isIPS  is4K         PPI      Processor  SSD  \\\n0   71378.6832              0      1     0  226.983005  Intel Core i5  128   \n1   47895.5232              0      0     0  127.677940  Intel Core i5    0   \n2   30636.0000              0      0     0  141.211998  Intel Core i5  256   \n3  135195.3360              0      1     0  220.534624  Intel Core i7  512   \n4   96095.8080              0      1     0  226.983005  Intel Core i5  256   \n\n   HDD  Flash_Storage  Hybrid  \n0    0              0       0  \n1    0            128       0  \n2    0              0       0  \n3    0              0       0  \n4    0              0       0  ",
      "text/html": "<div>\n<style scoped>\n    .dataframe tbody tr th:only-of-type {\n        vertical-align: middle;\n    }\n\n    .dataframe tbody tr th {\n        vertical-align: top;\n    }\n\n    .dataframe thead th {\n        text-align: right;\n    }\n</style>\n<table border=\"1\" class=\"dataframe\">\n  <thead>\n    <tr style=\"text-align: right;\">\n      <th></th>\n      <th>Company</th>\n      <th>TypeName</th>\n      <th>Ram</th>\n      <th>Gpu</th>\n      <th>OpSys</th>\n      <th>Weight</th>\n      <th>Price</th>\n      <th>isTouchScreen</th>\n      <th>isIPS</th>\n      <th>is4K</th>\n      <th>PPI</th>\n      <th>Processor</th>\n      <th>SSD</th>\n      <th>HDD</th>\n      <th>Flash_Storage</th>\n      <th>Hybrid</th>\n    </tr>\n  </thead>\n  <tbody>\n    <tr>\n      <th>0</th>\n      <td>Apple</td>\n      <td>Ultrabook</td>\n      <td>8</td>\n      <td>Intel Iris Plus Graphics 640</td>\n      <td>macOS</td>\n      <td>1.37</td>\n      <td>71378.6832</td>\n      <td>0</td>\n      <td>1</td>\n      <td>0</td>\n      <td>226.983005</td>\n      <td>Intel Core i5</td>\n      <td>128</td>\n      <td>0</td>\n      <td>0</td>\n      <td>0</td>\n    </tr>\n    <tr>\n      <th>1</th>\n      <td>Apple</td>\n      <td>Ultrabook</td>\n      <td>8</td>\n      <td>Intel HD Graphics 6000</td>\n      <td>macOS</td>\n      <td>1.34</td>\n      <td>47895.5232</td>\n      <td>0</td>\n      <td>0</td>\n      <td>0</td>\n      <td>127.677940</td>\n      <td>Intel Core i5</td>\n      <td>0</td>\n      <td>0</td>\n      <td>128</td>\n      <td>0</td>\n    </tr>\n    <tr>\n      <th>2</th>\n      <td>HP</td>\n      <td>Notebook</td>\n      <td>8</td>\n      <td>Intel HD Graphics 620</td>\n      <td>No OS</td>\n      <td>1.86</td>\n      <td>30636.0000</td>\n      <td>0</td>\n      <td>0</td>\n      <td>0</td>\n      <td>141.211998</td>\n      <td>Intel Core i5</td>\n      <td>256</td>\n      <td>0</td>\n      <td>0</td>\n      <td>0</td>\n    </tr>\n    <tr>\n      <th>3</th>\n      <td>Apple</td>\n      <td>Ultrabook</td>\n      <td>16</td>\n      <td>AMD Radeon Pro 455</td>\n      <td>macOS</td>\n      <td>1.83</td>\n      <td>135195.3360</td>\n      <td>0</td>\n      <td>1</td>\n      <td>0</td>\n      <td>220.534624</td>\n      <td>Intel Core i7</td>\n      <td>512</td>\n      <td>0</td>\n      <td>0</td>\n      <td>0</td>\n    </tr>\n    <tr>\n      <th>4</th>\n      <td>Apple</td>\n      <td>Ultrabook</td>\n      <td>8</td>\n      <td>Intel Iris Plus Graphics 650</td>\n      <td>macOS</td>\n      <td>1.37</td>\n      <td>96095.8080</td>\n      <td>0</td>\n      <td>1</td>\n      <td>0</td>\n      <td>226.983005</td>\n      <td>Intel Core i5</td>\n      <td>256</td>\n      <td>0</td>\n      <td>0</td>\n      <td>0</td>\n    </tr>\n  </tbody>\n</table>\n</div>"
     },
     "execution_count": 376,
     "metadata": {},
     "output_type": "execute_result"
    }
   ],
   "source": [
    "df.head()"
   ],
   "metadata": {
    "collapsed": false,
    "ExecuteTime": {
     "end_time": "2024-07-02T08:47:07.098415Z",
     "start_time": "2024-07-02T08:47:07.092891Z"
    }
   },
   "id": "156a29d4992434a6",
   "execution_count": 376
  },
  {
   "cell_type": "markdown",
   "source": [
    "## GPU Column"
   ],
   "metadata": {
    "collapsed": false
   },
   "id": "1a9e1b0dae9e938c"
  },
  {
   "cell_type": "code",
   "outputs": [
    {
     "data": {
      "text/plain": "Gpu\nIntel HD Graphics 620      281\nIntel HD Graphics 520      185\nIntel UHD Graphics 620      68\nNvidia GeForce GTX 1050     66\nNvidia GeForce GTX 1060     48\n                          ... \nAMD Radeon R5 520            1\nAMD Radeon R7                1\nIntel HD Graphics 540        1\nAMD Radeon 540               1\nARM Mali T860 MP4            1\nName: count, Length: 110, dtype: int64"
     },
     "execution_count": 377,
     "metadata": {},
     "output_type": "execute_result"
    }
   ],
   "source": [
    "df['Gpu'].value_counts()"
   ],
   "metadata": {
    "collapsed": false,
    "ExecuteTime": {
     "end_time": "2024-07-02T08:47:07.108559Z",
     "start_time": "2024-07-02T08:47:07.105466Z"
    }
   },
   "id": "d8633e2c64dcd6dd",
   "execution_count": 377
  },
  {
   "cell_type": "code",
   "outputs": [],
   "source": [
    "def GPU_determination(text): \n",
    "    if 'Intel' in text :\n",
    "        return 'Intel'\n",
    "    elif 'Nvidia' in text:\n",
    "        return 'Nvidia'\n",
    "    else :\n",
    "        return 'AMD' "
   ],
   "metadata": {
    "collapsed": false,
    "ExecuteTime": {
     "end_time": "2024-07-02T08:47:07.138951Z",
     "start_time": "2024-07-02T08:47:07.137047Z"
    }
   },
   "id": "e47b4a30c7d3f08d",
   "execution_count": 378
  },
  {
   "cell_type": "code",
   "outputs": [],
   "source": [
    "# df['Graphics_Intel'] = df['Gpu'].apply(lambda x:1 if 'Intel' in x else 0)\n",
    "# df['Graphics_Nvidia'] = df['Gpu'].apply(lambda x:1 if 'Nvidia' in x else 0)\n",
    "# df['Graphics_AMD'] = df['Gpu'].apply(lambda x:1 if 'AMD' in x else 0)\n",
    "df['Gpu Brand'] = df['Gpu'].apply(GPU_determination)"
   ],
   "metadata": {
    "collapsed": false,
    "ExecuteTime": {
     "end_time": "2024-07-02T08:47:07.190137Z",
     "start_time": "2024-07-02T08:47:07.188089Z"
    }
   },
   "id": "95e011b8dcf568e3",
   "execution_count": 379
  },
  {
   "cell_type": "code",
   "outputs": [
    {
     "name": "stdout",
     "output_type": "stream",
     "text": [
      "<class 'pandas.core.frame.DataFrame'>\n",
      "RangeIndex: 1303 entries, 0 to 1302\n",
      "Data columns (total 17 columns):\n",
      " #   Column         Non-Null Count  Dtype  \n",
      "---  ------         --------------  -----  \n",
      " 0   Company        1303 non-null   object \n",
      " 1   TypeName       1303 non-null   object \n",
      " 2   Ram            1303 non-null   int32  \n",
      " 3   Gpu            1303 non-null   object \n",
      " 4   OpSys          1303 non-null   object \n",
      " 5   Weight         1303 non-null   float32\n",
      " 6   Price          1303 non-null   float64\n",
      " 7   isTouchScreen  1303 non-null   int64  \n",
      " 8   isIPS          1303 non-null   int64  \n",
      " 9   is4K           1303 non-null   int64  \n",
      " 10  PPI            1303 non-null   float64\n",
      " 11  Processor      1303 non-null   object \n",
      " 12  SSD            1303 non-null   int32  \n",
      " 13  HDD            1303 non-null   int32  \n",
      " 14  Flash_Storage  1303 non-null   int32  \n",
      " 15  Hybrid         1303 non-null   int32  \n",
      " 16  Gpu Brand      1303 non-null   object \n",
      "dtypes: float32(1), float64(2), int32(5), int64(3), object(6)\n",
      "memory usage: 142.6+ KB\n"
     ]
    }
   ],
   "source": [
    "df.info()"
   ],
   "metadata": {
    "collapsed": false,
    "ExecuteTime": {
     "end_time": "2024-07-02T08:47:07.241052Z",
     "start_time": "2024-07-02T08:47:07.236707Z"
    }
   },
   "id": "5a1cf722b384ec0a",
   "execution_count": 380
  },
  {
   "cell_type": "code",
   "outputs": [],
   "source": [
    "df = df.drop(columns='Gpu')"
   ],
   "metadata": {
    "collapsed": false,
    "ExecuteTime": {
     "end_time": "2024-07-02T08:47:07.312025Z",
     "start_time": "2024-07-02T08:47:07.309223Z"
    }
   },
   "id": "89e4b12d3589fec4",
   "execution_count": 381
  },
  {
   "cell_type": "code",
   "outputs": [
    {
     "data": {
      "text/plain": "  Company   TypeName  Ram  OpSys  Weight        Price  isTouchScreen  isIPS  \\\n0   Apple  Ultrabook    8  macOS    1.37   71378.6832              0      1   \n1   Apple  Ultrabook    8  macOS    1.34   47895.5232              0      0   \n2      HP   Notebook    8  No OS    1.86   30636.0000              0      0   \n3   Apple  Ultrabook   16  macOS    1.83  135195.3360              0      1   \n4   Apple  Ultrabook    8  macOS    1.37   96095.8080              0      1   \n\n   is4K         PPI      Processor  SSD  HDD  Flash_Storage  Hybrid Gpu Brand  \n0     0  226.983005  Intel Core i5  128    0              0       0     Intel  \n1     0  127.677940  Intel Core i5    0    0            128       0     Intel  \n2     0  141.211998  Intel Core i5  256    0              0       0     Intel  \n3     0  220.534624  Intel Core i7  512    0              0       0       AMD  \n4     0  226.983005  Intel Core i5  256    0              0       0     Intel  ",
      "text/html": "<div>\n<style scoped>\n    .dataframe tbody tr th:only-of-type {\n        vertical-align: middle;\n    }\n\n    .dataframe tbody tr th {\n        vertical-align: top;\n    }\n\n    .dataframe thead th {\n        text-align: right;\n    }\n</style>\n<table border=\"1\" class=\"dataframe\">\n  <thead>\n    <tr style=\"text-align: right;\">\n      <th></th>\n      <th>Company</th>\n      <th>TypeName</th>\n      <th>Ram</th>\n      <th>OpSys</th>\n      <th>Weight</th>\n      <th>Price</th>\n      <th>isTouchScreen</th>\n      <th>isIPS</th>\n      <th>is4K</th>\n      <th>PPI</th>\n      <th>Processor</th>\n      <th>SSD</th>\n      <th>HDD</th>\n      <th>Flash_Storage</th>\n      <th>Hybrid</th>\n      <th>Gpu Brand</th>\n    </tr>\n  </thead>\n  <tbody>\n    <tr>\n      <th>0</th>\n      <td>Apple</td>\n      <td>Ultrabook</td>\n      <td>8</td>\n      <td>macOS</td>\n      <td>1.37</td>\n      <td>71378.6832</td>\n      <td>0</td>\n      <td>1</td>\n      <td>0</td>\n      <td>226.983005</td>\n      <td>Intel Core i5</td>\n      <td>128</td>\n      <td>0</td>\n      <td>0</td>\n      <td>0</td>\n      <td>Intel</td>\n    </tr>\n    <tr>\n      <th>1</th>\n      <td>Apple</td>\n      <td>Ultrabook</td>\n      <td>8</td>\n      <td>macOS</td>\n      <td>1.34</td>\n      <td>47895.5232</td>\n      <td>0</td>\n      <td>0</td>\n      <td>0</td>\n      <td>127.677940</td>\n      <td>Intel Core i5</td>\n      <td>0</td>\n      <td>0</td>\n      <td>128</td>\n      <td>0</td>\n      <td>Intel</td>\n    </tr>\n    <tr>\n      <th>2</th>\n      <td>HP</td>\n      <td>Notebook</td>\n      <td>8</td>\n      <td>No OS</td>\n      <td>1.86</td>\n      <td>30636.0000</td>\n      <td>0</td>\n      <td>0</td>\n      <td>0</td>\n      <td>141.211998</td>\n      <td>Intel Core i5</td>\n      <td>256</td>\n      <td>0</td>\n      <td>0</td>\n      <td>0</td>\n      <td>Intel</td>\n    </tr>\n    <tr>\n      <th>3</th>\n      <td>Apple</td>\n      <td>Ultrabook</td>\n      <td>16</td>\n      <td>macOS</td>\n      <td>1.83</td>\n      <td>135195.3360</td>\n      <td>0</td>\n      <td>1</td>\n      <td>0</td>\n      <td>220.534624</td>\n      <td>Intel Core i7</td>\n      <td>512</td>\n      <td>0</td>\n      <td>0</td>\n      <td>0</td>\n      <td>AMD</td>\n    </tr>\n    <tr>\n      <th>4</th>\n      <td>Apple</td>\n      <td>Ultrabook</td>\n      <td>8</td>\n      <td>macOS</td>\n      <td>1.37</td>\n      <td>96095.8080</td>\n      <td>0</td>\n      <td>1</td>\n      <td>0</td>\n      <td>226.983005</td>\n      <td>Intel Core i5</td>\n      <td>256</td>\n      <td>0</td>\n      <td>0</td>\n      <td>0</td>\n      <td>Intel</td>\n    </tr>\n  </tbody>\n</table>\n</div>"
     },
     "execution_count": 382,
     "metadata": {},
     "output_type": "execute_result"
    }
   ],
   "source": [
    "df.head()"
   ],
   "metadata": {
    "collapsed": false,
    "ExecuteTime": {
     "end_time": "2024-07-02T08:47:07.351193Z",
     "start_time": "2024-07-02T08:47:07.345455Z"
    }
   },
   "id": "65be3870cb0e4603",
   "execution_count": 382
  },
  {
   "cell_type": "markdown",
   "source": [
    "## Operating System Column"
   ],
   "metadata": {
    "collapsed": false
   },
   "id": "52c0743b692a2c46"
  },
  {
   "cell_type": "code",
   "outputs": [
    {
     "data": {
      "text/plain": "OpSys\nWindows 10      1072\nNo OS             66\nLinux             62\nWindows 7         45\nChrome OS         27\nmacOS             13\nMac OS X           8\nWindows 10 S       8\nAndroid            2\nName: count, dtype: int64"
     },
     "execution_count": 383,
     "metadata": {},
     "output_type": "execute_result"
    }
   ],
   "source": [
    "df['OpSys'].value_counts()"
   ],
   "metadata": {
    "collapsed": false,
    "ExecuteTime": {
     "end_time": "2024-07-02T08:47:07.413910Z",
     "start_time": "2024-07-02T08:47:07.411167Z"
    }
   },
   "id": "2f0125fc4f6611f9",
   "execution_count": 383
  },
  {
   "cell_type": "code",
   "outputs": [],
   "source": [
    "def cat_os(inp):\n",
    "    if inp == 'Windows 10' or inp == 'Windows 7' or inp == 'Windows 10 S':\n",
    "        return 'Windows'\n",
    "    elif inp == 'macOS' or inp == 'Mac OS X':\n",
    "        return 'Mac'\n",
    "    else:\n",
    "        return 'Others/No OS/Linux'"
   ],
   "metadata": {
    "collapsed": false,
    "ExecuteTime": {
     "end_time": "2024-07-02T08:47:07.444149Z",
     "start_time": "2024-07-02T08:47:07.442430Z"
    }
   },
   "id": "bbbb8ba7985786bc",
   "execution_count": 384
  },
  {
   "cell_type": "code",
   "outputs": [],
   "source": [
    "df['Os'] = df['OpSys'].apply(cat_os)"
   ],
   "metadata": {
    "collapsed": false,
    "ExecuteTime": {
     "end_time": "2024-07-02T08:47:07.506516Z",
     "start_time": "2024-07-02T08:47:07.504030Z"
    }
   },
   "id": "58aa321ce4d566d8",
   "execution_count": 385
  },
  {
   "cell_type": "code",
   "outputs": [],
   "source": [
    "df = df.drop(columns='OpSys')"
   ],
   "metadata": {
    "collapsed": false,
    "ExecuteTime": {
     "end_time": "2024-07-02T08:47:07.542508Z",
     "start_time": "2024-07-02T08:47:07.539903Z"
    }
   },
   "id": "490c107a77c59e2b",
   "execution_count": 386
  },
  {
   "cell_type": "code",
   "outputs": [
    {
     "data": {
      "text/plain": "  Company   TypeName  Ram  Weight        Price  isTouchScreen  isIPS  is4K  \\\n0   Apple  Ultrabook    8    1.37   71378.6832              0      1     0   \n1   Apple  Ultrabook    8    1.34   47895.5232              0      0     0   \n2      HP   Notebook    8    1.86   30636.0000              0      0     0   \n3   Apple  Ultrabook   16    1.83  135195.3360              0      1     0   \n4   Apple  Ultrabook    8    1.37   96095.8080              0      1     0   \n\n          PPI      Processor  SSD  HDD  Flash_Storage  Hybrid Gpu Brand  \\\n0  226.983005  Intel Core i5  128    0              0       0     Intel   \n1  127.677940  Intel Core i5    0    0            128       0     Intel   \n2  141.211998  Intel Core i5  256    0              0       0     Intel   \n3  220.534624  Intel Core i7  512    0              0       0       AMD   \n4  226.983005  Intel Core i5  256    0              0       0     Intel   \n\n                   Os  \n0                 Mac  \n1                 Mac  \n2  Others/No OS/Linux  \n3                 Mac  \n4                 Mac  ",
      "text/html": "<div>\n<style scoped>\n    .dataframe tbody tr th:only-of-type {\n        vertical-align: middle;\n    }\n\n    .dataframe tbody tr th {\n        vertical-align: top;\n    }\n\n    .dataframe thead th {\n        text-align: right;\n    }\n</style>\n<table border=\"1\" class=\"dataframe\">\n  <thead>\n    <tr style=\"text-align: right;\">\n      <th></th>\n      <th>Company</th>\n      <th>TypeName</th>\n      <th>Ram</th>\n      <th>Weight</th>\n      <th>Price</th>\n      <th>isTouchScreen</th>\n      <th>isIPS</th>\n      <th>is4K</th>\n      <th>PPI</th>\n      <th>Processor</th>\n      <th>SSD</th>\n      <th>HDD</th>\n      <th>Flash_Storage</th>\n      <th>Hybrid</th>\n      <th>Gpu Brand</th>\n      <th>Os</th>\n    </tr>\n  </thead>\n  <tbody>\n    <tr>\n      <th>0</th>\n      <td>Apple</td>\n      <td>Ultrabook</td>\n      <td>8</td>\n      <td>1.37</td>\n      <td>71378.6832</td>\n      <td>0</td>\n      <td>1</td>\n      <td>0</td>\n      <td>226.983005</td>\n      <td>Intel Core i5</td>\n      <td>128</td>\n      <td>0</td>\n      <td>0</td>\n      <td>0</td>\n      <td>Intel</td>\n      <td>Mac</td>\n    </tr>\n    <tr>\n      <th>1</th>\n      <td>Apple</td>\n      <td>Ultrabook</td>\n      <td>8</td>\n      <td>1.34</td>\n      <td>47895.5232</td>\n      <td>0</td>\n      <td>0</td>\n      <td>0</td>\n      <td>127.677940</td>\n      <td>Intel Core i5</td>\n      <td>0</td>\n      <td>0</td>\n      <td>128</td>\n      <td>0</td>\n      <td>Intel</td>\n      <td>Mac</td>\n    </tr>\n    <tr>\n      <th>2</th>\n      <td>HP</td>\n      <td>Notebook</td>\n      <td>8</td>\n      <td>1.86</td>\n      <td>30636.0000</td>\n      <td>0</td>\n      <td>0</td>\n      <td>0</td>\n      <td>141.211998</td>\n      <td>Intel Core i5</td>\n      <td>256</td>\n      <td>0</td>\n      <td>0</td>\n      <td>0</td>\n      <td>Intel</td>\n      <td>Others/No OS/Linux</td>\n    </tr>\n    <tr>\n      <th>3</th>\n      <td>Apple</td>\n      <td>Ultrabook</td>\n      <td>16</td>\n      <td>1.83</td>\n      <td>135195.3360</td>\n      <td>0</td>\n      <td>1</td>\n      <td>0</td>\n      <td>220.534624</td>\n      <td>Intel Core i7</td>\n      <td>512</td>\n      <td>0</td>\n      <td>0</td>\n      <td>0</td>\n      <td>AMD</td>\n      <td>Mac</td>\n    </tr>\n    <tr>\n      <th>4</th>\n      <td>Apple</td>\n      <td>Ultrabook</td>\n      <td>8</td>\n      <td>1.37</td>\n      <td>96095.8080</td>\n      <td>0</td>\n      <td>1</td>\n      <td>0</td>\n      <td>226.983005</td>\n      <td>Intel Core i5</td>\n      <td>256</td>\n      <td>0</td>\n      <td>0</td>\n      <td>0</td>\n      <td>Intel</td>\n      <td>Mac</td>\n    </tr>\n  </tbody>\n</table>\n</div>"
     },
     "execution_count": 387,
     "metadata": {},
     "output_type": "execute_result"
    }
   ],
   "source": [
    "df.head()"
   ],
   "metadata": {
    "collapsed": false,
    "ExecuteTime": {
     "end_time": "2024-07-02T08:47:07.628631Z",
     "start_time": "2024-07-02T08:47:07.623125Z"
    }
   },
   "id": "c3e34aa182a06b54",
   "execution_count": 387
  },
  {
   "cell_type": "code",
   "outputs": [
    {
     "name": "stdout",
     "output_type": "stream",
     "text": [
      "<class 'pandas.core.frame.DataFrame'>\n",
      "RangeIndex: 1303 entries, 0 to 1302\n",
      "Data columns (total 16 columns):\n",
      " #   Column         Non-Null Count  Dtype  \n",
      "---  ------         --------------  -----  \n",
      " 0   Company        1303 non-null   object \n",
      " 1   TypeName       1303 non-null   object \n",
      " 2   Ram            1303 non-null   int32  \n",
      " 3   Weight         1303 non-null   float32\n",
      " 4   Price          1303 non-null   float64\n",
      " 5   isTouchScreen  1303 non-null   int64  \n",
      " 6   isIPS          1303 non-null   int64  \n",
      " 7   is4K           1303 non-null   int64  \n",
      " 8   PPI            1303 non-null   float64\n",
      " 9   Processor      1303 non-null   object \n",
      " 10  SSD            1303 non-null   int32  \n",
      " 11  HDD            1303 non-null   int32  \n",
      " 12  Flash_Storage  1303 non-null   int32  \n",
      " 13  Hybrid         1303 non-null   int32  \n",
      " 14  Gpu Brand      1303 non-null   object \n",
      " 15  Os             1303 non-null   object \n",
      "dtypes: float32(1), float64(2), int32(5), int64(3), object(5)\n",
      "memory usage: 132.5+ KB\n"
     ]
    }
   ],
   "source": [
    "df.info()"
   ],
   "metadata": {
    "collapsed": false,
    "ExecuteTime": {
     "end_time": "2024-07-02T08:47:07.673685Z",
     "start_time": "2024-07-02T08:47:07.668024Z"
    }
   },
   "id": "9f5f9d7fc446ab7",
   "execution_count": 388
  },
  {
   "cell_type": "code",
   "outputs": [],
   "source": [
    "df = df.drop(columns=['Flash_Storage', 'Hybrid', 'is4K'])"
   ],
   "metadata": {
    "collapsed": false,
    "ExecuteTime": {
     "end_time": "2024-07-02T08:47:07.712651Z",
     "start_time": "2024-07-02T08:47:07.710307Z"
    }
   },
   "id": "9f07e18ce1e7fd9b",
   "execution_count": 389
  },
  {
   "cell_type": "markdown",
   "source": [
    "# Preparing Data For Algorithm"
   ],
   "metadata": {
    "collapsed": false
   },
   "id": "9bcba98c282deaad"
  },
  {
   "cell_type": "markdown",
   "source": [
    "## Train Test Splitting "
   ],
   "metadata": {
    "collapsed": false
   },
   "id": "8997dccb6f8f0e12"
  },
  {
   "cell_type": "code",
   "outputs": [],
   "source": [
    "x = df.drop(columns='Price')\n",
    "y= np.log(df['Price'])"
   ],
   "metadata": {
    "collapsed": false,
    "ExecuteTime": {
     "end_time": "2024-07-02T08:47:07.754981Z",
     "start_time": "2024-07-02T08:47:07.752446Z"
    }
   },
   "id": "ed7c1a74cde4e9b0",
   "execution_count": 390
  },
  {
   "cell_type": "code",
   "outputs": [],
   "source": [
    "train_x, test_x, train_y, test_y = split(x, y, test_size=0.15, random_state=2)"
   ],
   "metadata": {
    "collapsed": false,
    "ExecuteTime": {
     "end_time": "2024-07-02T08:47:07.888385Z",
     "start_time": "2024-07-02T08:47:07.884475Z"
    }
   },
   "id": "a5ef61a317db36a7",
   "execution_count": 391
  },
  {
   "cell_type": "markdown",
   "source": [
    "## Column Transformation and PipeLine Initialising "
   ],
   "metadata": {
    "collapsed": false
   },
   "id": "61eda5dae499931d"
  },
  {
   "cell_type": "code",
   "outputs": [],
   "source": [],
   "metadata": {
    "collapsed": false,
    "ExecuteTime": {
     "end_time": "2024-07-02T08:47:07.919749Z",
     "start_time": "2024-07-02T08:47:07.918260Z"
    }
   },
   "id": "1d1db51751d4ed9e",
   "execution_count": 391
  },
  {
   "cell_type": "code",
   "outputs": [],
   "source": [
    "transformer = ColumnTransformer(transformers=[\n",
    "     ('step_1', OneHotEncoder(sparse_output=False, drop='first'), ['Company', 'TypeName',  'Processor', 'Os', 'Gpu Brand'])\n",
    "],remainder='passthrough')"
   ],
   "metadata": {
    "collapsed": false,
    "ExecuteTime": {
     "end_time": "2024-07-02T08:47:07.980832Z",
     "start_time": "2024-07-02T08:47:07.978344Z"
    }
   },
   "id": "60b2de7311be18e1",
   "execution_count": 392
  },
  {
   "cell_type": "code",
   "outputs": [],
   "source": [
    "pipe = Pipeline([\n",
    "    ('first', transformer),\n",
    "    ('second', LinearRegression())\n",
    "])"
   ],
   "metadata": {
    "collapsed": false,
    "ExecuteTime": {
     "end_time": "2024-07-02T08:47:08.033085Z",
     "start_time": "2024-07-02T08:47:08.029970Z"
    }
   },
   "id": "6a6a077f8de5de2f",
   "execution_count": 393
  },
  {
   "cell_type": "code",
   "outputs": [
    {
     "data": {
      "text/plain": "0.7588378480519518"
     },
     "execution_count": 394,
     "metadata": {},
     "output_type": "execute_result"
    }
   ],
   "source": [
    "pipe.fit(train_x, train_y)\n",
    "y_pred = pipe.predict(test_x)\n",
    "r2_score(y_pred, test_y)"
   ],
   "metadata": {
    "collapsed": false,
    "ExecuteTime": {
     "end_time": "2024-07-02T08:47:08.083831Z",
     "start_time": "2024-07-02T08:47:08.069405Z"
    }
   },
   "id": "12459426c7f2ebe2",
   "execution_count": 394
  },
  {
   "cell_type": "code",
   "outputs": [
    {
     "name": "stdout",
     "output_type": "stream",
     "text": [
      "<class 'pandas.core.frame.DataFrame'>\n",
      "RangeIndex: 1303 entries, 0 to 1302\n",
      "Data columns (total 13 columns):\n",
      " #   Column         Non-Null Count  Dtype  \n",
      "---  ------         --------------  -----  \n",
      " 0   Company        1303 non-null   object \n",
      " 1   TypeName       1303 non-null   object \n",
      " 2   Ram            1303 non-null   int32  \n",
      " 3   Weight         1303 non-null   float32\n",
      " 4   Price          1303 non-null   float64\n",
      " 5   isTouchScreen  1303 non-null   int64  \n",
      " 6   isIPS          1303 non-null   int64  \n",
      " 7   PPI            1303 non-null   float64\n",
      " 8   Processor      1303 non-null   object \n",
      " 9   SSD            1303 non-null   int32  \n",
      " 10  HDD            1303 non-null   int32  \n",
      " 11  Gpu Brand      1303 non-null   object \n",
      " 12  Os             1303 non-null   object \n",
      "dtypes: float32(1), float64(2), int32(3), int64(2), object(5)\n",
      "memory usage: 112.1+ KB\n"
     ]
    }
   ],
   "source": [
    "df.info()"
   ],
   "metadata": {
    "collapsed": false,
    "ExecuteTime": {
     "end_time": "2024-07-02T08:47:08.122145Z",
     "start_time": "2024-07-02T08:47:08.114658Z"
    }
   },
   "id": "93079b03accd3797",
   "execution_count": 395
  },
  {
   "cell_type": "code",
   "outputs": [],
   "source": [
    "models = {\n",
    "    'Linear Regression': LinearRegression(),\n",
    "    'Ridge Regression': Ridge(alpha=10),\n",
    "    'Lasso Regression': Lasso(alpha=0.001),\n",
    "    'K-Neighbors Regressor': KNeighborsRegressor(n_neighbors=3),\n",
    "    'Decision Tree Regressor': DecisionTreeRegressor(max_depth=8),\n",
    "    'Random Forest Regressor': RandomForestRegressor(n_estimators=100,\n",
    "                              random_state=3,\n",
    "                              max_samples=0.5,\n",
    "                              max_features=0.75,\n",
    "                              max_depth=15),\n",
    "    'Gradient Boosting Regressor': GradientBoostingRegressor(n_estimators=500),\n",
    "    'AdaBoost Regressor': AdaBoostRegressor(n_estimators=15,learning_rate=1.0),\n",
    "    'Extra Trees Regressor': ExtraTreesRegressor(n_estimators=100,\n",
    "                              random_state=3,\n",
    "                              max_features=0.75,\n",
    "                              max_depth=15),\n",
    "    'Support Vector Regressor': SVR(kernel='rbf',C=10000,epsilon=0.1)\n",
    "}"
   ],
   "metadata": {
    "collapsed": false,
    "ExecuteTime": {
     "end_time": "2024-07-02T08:47:08.177317Z",
     "start_time": "2024-07-02T08:47:08.171509Z"
    }
   },
   "id": "ad8535c6c846d9cc",
   "execution_count": 396
  },
  {
   "cell_type": "code",
   "outputs": [
    {
     "ename": "KeyError",
     "evalue": "\"['Hybrid', 'Flash_Storage'] not found in axis\"",
     "output_type": "error",
     "traceback": [
      "\u001B[0;31m---------------------------------------------------------------------------\u001B[0m",
      "\u001B[0;31mKeyError\u001B[0m                                  Traceback (most recent call last)",
      "Cell \u001B[0;32mIn[397], line 1\u001B[0m\n\u001B[0;32m----> 1\u001B[0m df \u001B[38;5;241m=\u001B[39m \u001B[43mdf\u001B[49m\u001B[38;5;241;43m.\u001B[39;49m\u001B[43mdrop\u001B[49m\u001B[43m(\u001B[49m\u001B[43mcolumns\u001B[49m\u001B[38;5;241;43m=\u001B[39;49m\u001B[43m[\u001B[49m\u001B[38;5;124;43m'\u001B[39;49m\u001B[38;5;124;43mHybrid\u001B[39;49m\u001B[38;5;124;43m'\u001B[39;49m\u001B[43m,\u001B[49m\u001B[43m \u001B[49m\u001B[38;5;124;43m'\u001B[39;49m\u001B[38;5;124;43mFlash_Storage\u001B[39;49m\u001B[38;5;124;43m'\u001B[39;49m\u001B[43m]\u001B[49m\u001B[43m)\u001B[49m\n",
      "File \u001B[0;32m~/Coding/Laptop Price Predictor/.venv/lib/python3.12/site-packages/pandas/core/frame.py:5581\u001B[0m, in \u001B[0;36mDataFrame.drop\u001B[0;34m(self, labels, axis, index, columns, level, inplace, errors)\u001B[0m\n\u001B[1;32m   5433\u001B[0m \u001B[38;5;28;01mdef\u001B[39;00m \u001B[38;5;21mdrop\u001B[39m(\n\u001B[1;32m   5434\u001B[0m     \u001B[38;5;28mself\u001B[39m,\n\u001B[1;32m   5435\u001B[0m     labels: IndexLabel \u001B[38;5;241m|\u001B[39m \u001B[38;5;28;01mNone\u001B[39;00m \u001B[38;5;241m=\u001B[39m \u001B[38;5;28;01mNone\u001B[39;00m,\n\u001B[0;32m   (...)\u001B[0m\n\u001B[1;32m   5442\u001B[0m     errors: IgnoreRaise \u001B[38;5;241m=\u001B[39m \u001B[38;5;124m\"\u001B[39m\u001B[38;5;124mraise\u001B[39m\u001B[38;5;124m\"\u001B[39m,\n\u001B[1;32m   5443\u001B[0m ) \u001B[38;5;241m-\u001B[39m\u001B[38;5;241m>\u001B[39m DataFrame \u001B[38;5;241m|\u001B[39m \u001B[38;5;28;01mNone\u001B[39;00m:\n\u001B[1;32m   5444\u001B[0m \u001B[38;5;250m    \u001B[39m\u001B[38;5;124;03m\"\"\"\u001B[39;00m\n\u001B[1;32m   5445\u001B[0m \u001B[38;5;124;03m    Drop specified labels from rows or columns.\u001B[39;00m\n\u001B[1;32m   5446\u001B[0m \n\u001B[0;32m   (...)\u001B[0m\n\u001B[1;32m   5579\u001B[0m \u001B[38;5;124;03m            weight  1.0     0.8\u001B[39;00m\n\u001B[1;32m   5580\u001B[0m \u001B[38;5;124;03m    \"\"\"\u001B[39;00m\n\u001B[0;32m-> 5581\u001B[0m     \u001B[38;5;28;01mreturn\u001B[39;00m \u001B[38;5;28;43msuper\u001B[39;49m\u001B[43m(\u001B[49m\u001B[43m)\u001B[49m\u001B[38;5;241;43m.\u001B[39;49m\u001B[43mdrop\u001B[49m\u001B[43m(\u001B[49m\n\u001B[1;32m   5582\u001B[0m \u001B[43m        \u001B[49m\u001B[43mlabels\u001B[49m\u001B[38;5;241;43m=\u001B[39;49m\u001B[43mlabels\u001B[49m\u001B[43m,\u001B[49m\n\u001B[1;32m   5583\u001B[0m \u001B[43m        \u001B[49m\u001B[43maxis\u001B[49m\u001B[38;5;241;43m=\u001B[39;49m\u001B[43maxis\u001B[49m\u001B[43m,\u001B[49m\n\u001B[1;32m   5584\u001B[0m \u001B[43m        \u001B[49m\u001B[43mindex\u001B[49m\u001B[38;5;241;43m=\u001B[39;49m\u001B[43mindex\u001B[49m\u001B[43m,\u001B[49m\n\u001B[1;32m   5585\u001B[0m \u001B[43m        \u001B[49m\u001B[43mcolumns\u001B[49m\u001B[38;5;241;43m=\u001B[39;49m\u001B[43mcolumns\u001B[49m\u001B[43m,\u001B[49m\n\u001B[1;32m   5586\u001B[0m \u001B[43m        \u001B[49m\u001B[43mlevel\u001B[49m\u001B[38;5;241;43m=\u001B[39;49m\u001B[43mlevel\u001B[49m\u001B[43m,\u001B[49m\n\u001B[1;32m   5587\u001B[0m \u001B[43m        \u001B[49m\u001B[43minplace\u001B[49m\u001B[38;5;241;43m=\u001B[39;49m\u001B[43minplace\u001B[49m\u001B[43m,\u001B[49m\n\u001B[1;32m   5588\u001B[0m \u001B[43m        \u001B[49m\u001B[43merrors\u001B[49m\u001B[38;5;241;43m=\u001B[39;49m\u001B[43merrors\u001B[49m\u001B[43m,\u001B[49m\n\u001B[1;32m   5589\u001B[0m \u001B[43m    \u001B[49m\u001B[43m)\u001B[49m\n",
      "File \u001B[0;32m~/Coding/Laptop Price Predictor/.venv/lib/python3.12/site-packages/pandas/core/generic.py:4788\u001B[0m, in \u001B[0;36mNDFrame.drop\u001B[0;34m(self, labels, axis, index, columns, level, inplace, errors)\u001B[0m\n\u001B[1;32m   4786\u001B[0m \u001B[38;5;28;01mfor\u001B[39;00m axis, labels \u001B[38;5;129;01min\u001B[39;00m axes\u001B[38;5;241m.\u001B[39mitems():\n\u001B[1;32m   4787\u001B[0m     \u001B[38;5;28;01mif\u001B[39;00m labels \u001B[38;5;129;01mis\u001B[39;00m \u001B[38;5;129;01mnot\u001B[39;00m \u001B[38;5;28;01mNone\u001B[39;00m:\n\u001B[0;32m-> 4788\u001B[0m         obj \u001B[38;5;241m=\u001B[39m \u001B[43mobj\u001B[49m\u001B[38;5;241;43m.\u001B[39;49m\u001B[43m_drop_axis\u001B[49m\u001B[43m(\u001B[49m\u001B[43mlabels\u001B[49m\u001B[43m,\u001B[49m\u001B[43m \u001B[49m\u001B[43maxis\u001B[49m\u001B[43m,\u001B[49m\u001B[43m \u001B[49m\u001B[43mlevel\u001B[49m\u001B[38;5;241;43m=\u001B[39;49m\u001B[43mlevel\u001B[49m\u001B[43m,\u001B[49m\u001B[43m \u001B[49m\u001B[43merrors\u001B[49m\u001B[38;5;241;43m=\u001B[39;49m\u001B[43merrors\u001B[49m\u001B[43m)\u001B[49m\n\u001B[1;32m   4790\u001B[0m \u001B[38;5;28;01mif\u001B[39;00m inplace:\n\u001B[1;32m   4791\u001B[0m     \u001B[38;5;28mself\u001B[39m\u001B[38;5;241m.\u001B[39m_update_inplace(obj)\n",
      "File \u001B[0;32m~/Coding/Laptop Price Predictor/.venv/lib/python3.12/site-packages/pandas/core/generic.py:4830\u001B[0m, in \u001B[0;36mNDFrame._drop_axis\u001B[0;34m(self, labels, axis, level, errors, only_slice)\u001B[0m\n\u001B[1;32m   4828\u001B[0m         new_axis \u001B[38;5;241m=\u001B[39m axis\u001B[38;5;241m.\u001B[39mdrop(labels, level\u001B[38;5;241m=\u001B[39mlevel, errors\u001B[38;5;241m=\u001B[39merrors)\n\u001B[1;32m   4829\u001B[0m     \u001B[38;5;28;01melse\u001B[39;00m:\n\u001B[0;32m-> 4830\u001B[0m         new_axis \u001B[38;5;241m=\u001B[39m \u001B[43maxis\u001B[49m\u001B[38;5;241;43m.\u001B[39;49m\u001B[43mdrop\u001B[49m\u001B[43m(\u001B[49m\u001B[43mlabels\u001B[49m\u001B[43m,\u001B[49m\u001B[43m \u001B[49m\u001B[43merrors\u001B[49m\u001B[38;5;241;43m=\u001B[39;49m\u001B[43merrors\u001B[49m\u001B[43m)\u001B[49m\n\u001B[1;32m   4831\u001B[0m     indexer \u001B[38;5;241m=\u001B[39m axis\u001B[38;5;241m.\u001B[39mget_indexer(new_axis)\n\u001B[1;32m   4833\u001B[0m \u001B[38;5;66;03m# Case for non-unique axis\u001B[39;00m\n\u001B[1;32m   4834\u001B[0m \u001B[38;5;28;01melse\u001B[39;00m:\n",
      "File \u001B[0;32m~/Coding/Laptop Price Predictor/.venv/lib/python3.12/site-packages/pandas/core/indexes/base.py:7070\u001B[0m, in \u001B[0;36mIndex.drop\u001B[0;34m(self, labels, errors)\u001B[0m\n\u001B[1;32m   7068\u001B[0m \u001B[38;5;28;01mif\u001B[39;00m mask\u001B[38;5;241m.\u001B[39many():\n\u001B[1;32m   7069\u001B[0m     \u001B[38;5;28;01mif\u001B[39;00m errors \u001B[38;5;241m!=\u001B[39m \u001B[38;5;124m\"\u001B[39m\u001B[38;5;124mignore\u001B[39m\u001B[38;5;124m\"\u001B[39m:\n\u001B[0;32m-> 7070\u001B[0m         \u001B[38;5;28;01mraise\u001B[39;00m \u001B[38;5;167;01mKeyError\u001B[39;00m(\u001B[38;5;124mf\u001B[39m\u001B[38;5;124m\"\u001B[39m\u001B[38;5;132;01m{\u001B[39;00mlabels[mask]\u001B[38;5;241m.\u001B[39mtolist()\u001B[38;5;132;01m}\u001B[39;00m\u001B[38;5;124m not found in axis\u001B[39m\u001B[38;5;124m\"\u001B[39m)\n\u001B[1;32m   7071\u001B[0m     indexer \u001B[38;5;241m=\u001B[39m indexer[\u001B[38;5;241m~\u001B[39mmask]\n\u001B[1;32m   7072\u001B[0m \u001B[38;5;28;01mreturn\u001B[39;00m \u001B[38;5;28mself\u001B[39m\u001B[38;5;241m.\u001B[39mdelete(indexer)\n",
      "\u001B[0;31mKeyError\u001B[0m: \"['Hybrid', 'Flash_Storage'] not found in axis\""
     ]
    }
   ],
   "source": [
    "df = df.drop(columns=['Hybrid', 'Flash_Storage'])"
   ],
   "metadata": {
    "collapsed": false,
    "ExecuteTime": {
     "end_time": "2024-07-02T08:47:08.248475Z",
     "start_time": "2024-07-02T08:47:08.192621Z"
    }
   },
   "id": "1348bfe526bcf277",
   "execution_count": 397
  },
  {
   "cell_type": "code",
   "outputs": [],
   "source": [
    "def Prediction_of_Model():\n",
    "    for name, model in models.items():\n",
    "        pip = Pipeline([\n",
    "            ('first', transformer),\n",
    "            ('second', model)\n",
    "        ])\n",
    "        pip.fit(train_x, train_y)\n",
    "        new_y = pip.predict(test_x)\n",
    "        print(f'{name}----', r2_score(y_pred, test_y), ' error : ', mean_absolute_error(test_y,y_pred))"
   ],
   "metadata": {
    "collapsed": false
   },
   "id": "dea0483a5a01e69e",
   "execution_count": null
  },
  {
   "cell_type": "code",
   "outputs": [
    {
     "name": "stdout",
     "output_type": "stream",
     "text": [
      "Linear Regression---- 0.7588378480519518  error :  0.20943405251798525\n",
      "Ridge Regression---- 0.7588378480519518  error :  0.20943405251798525\n",
      "Lasso Regression---- 0.7588378480519518  error :  0.20943405251798525\n",
      "K-Neighbors Regressor---- 0.7588378480519518  error :  0.20943405251798525\n",
      "Decision Tree Regressor---- 0.7588378480519518  error :  0.20943405251798525\n",
      "Random Forest Regressor---- 0.7588378480519518  error :  0.20943405251798525\n",
      "Gradient Boosting Regressor---- 0.7588378480519518  error :  0.20943405251798525\n",
      "AdaBoost Regressor---- 0.7588378480519518  error :  0.20943405251798525\n",
      "Extra Trees Regressor---- 0.7588378480519518  error :  0.20943405251798525\n",
      "Support Vector Regressor---- 0.7588378480519518  error :  0.20943405251798525\n"
     ]
    }
   ],
   "source": [
    "Prediction_of_Model()"
   ],
   "metadata": {
    "collapsed": false,
    "ExecuteTime": {
     "end_time": "2024-07-02T08:47:09.503232Z",
     "start_time": "2024-07-02T08:47:08.339041Z"
    }
   },
   "id": "ae24f8aa558e3513",
   "execution_count": 398
  },
  {
   "cell_type": "code",
   "outputs": [
    {
     "data": {
      "text/plain": "  Company   TypeName  Ram  Weight        Price  isTouchScreen  isIPS  \\\n0   Apple  Ultrabook    8    1.37   71378.6832              0      1   \n1   Apple  Ultrabook    8    1.34   47895.5232              0      0   \n2      HP   Notebook    8    1.86   30636.0000              0      0   \n3   Apple  Ultrabook   16    1.83  135195.3360              0      1   \n4   Apple  Ultrabook    8    1.37   96095.8080              0      1   \n\n          PPI      Processor  SSD  HDD Gpu Brand                  Os  \n0  226.983005  Intel Core i5  128    0     Intel                 Mac  \n1  127.677940  Intel Core i5    0    0     Intel                 Mac  \n2  141.211998  Intel Core i5  256    0     Intel  Others/No OS/Linux  \n3  220.534624  Intel Core i7  512    0       AMD                 Mac  \n4  226.983005  Intel Core i5  256    0     Intel                 Mac  ",
      "text/html": "<div>\n<style scoped>\n    .dataframe tbody tr th:only-of-type {\n        vertical-align: middle;\n    }\n\n    .dataframe tbody tr th {\n        vertical-align: top;\n    }\n\n    .dataframe thead th {\n        text-align: right;\n    }\n</style>\n<table border=\"1\" class=\"dataframe\">\n  <thead>\n    <tr style=\"text-align: right;\">\n      <th></th>\n      <th>Company</th>\n      <th>TypeName</th>\n      <th>Ram</th>\n      <th>Weight</th>\n      <th>Price</th>\n      <th>isTouchScreen</th>\n      <th>isIPS</th>\n      <th>PPI</th>\n      <th>Processor</th>\n      <th>SSD</th>\n      <th>HDD</th>\n      <th>Gpu Brand</th>\n      <th>Os</th>\n    </tr>\n  </thead>\n  <tbody>\n    <tr>\n      <th>0</th>\n      <td>Apple</td>\n      <td>Ultrabook</td>\n      <td>8</td>\n      <td>1.37</td>\n      <td>71378.6832</td>\n      <td>0</td>\n      <td>1</td>\n      <td>226.983005</td>\n      <td>Intel Core i5</td>\n      <td>128</td>\n      <td>0</td>\n      <td>Intel</td>\n      <td>Mac</td>\n    </tr>\n    <tr>\n      <th>1</th>\n      <td>Apple</td>\n      <td>Ultrabook</td>\n      <td>8</td>\n      <td>1.34</td>\n      <td>47895.5232</td>\n      <td>0</td>\n      <td>0</td>\n      <td>127.677940</td>\n      <td>Intel Core i5</td>\n      <td>0</td>\n      <td>0</td>\n      <td>Intel</td>\n      <td>Mac</td>\n    </tr>\n    <tr>\n      <th>2</th>\n      <td>HP</td>\n      <td>Notebook</td>\n      <td>8</td>\n      <td>1.86</td>\n      <td>30636.0000</td>\n      <td>0</td>\n      <td>0</td>\n      <td>141.211998</td>\n      <td>Intel Core i5</td>\n      <td>256</td>\n      <td>0</td>\n      <td>Intel</td>\n      <td>Others/No OS/Linux</td>\n    </tr>\n    <tr>\n      <th>3</th>\n      <td>Apple</td>\n      <td>Ultrabook</td>\n      <td>16</td>\n      <td>1.83</td>\n      <td>135195.3360</td>\n      <td>0</td>\n      <td>1</td>\n      <td>220.534624</td>\n      <td>Intel Core i7</td>\n      <td>512</td>\n      <td>0</td>\n      <td>AMD</td>\n      <td>Mac</td>\n    </tr>\n    <tr>\n      <th>4</th>\n      <td>Apple</td>\n      <td>Ultrabook</td>\n      <td>8</td>\n      <td>1.37</td>\n      <td>96095.8080</td>\n      <td>0</td>\n      <td>1</td>\n      <td>226.983005</td>\n      <td>Intel Core i5</td>\n      <td>256</td>\n      <td>0</td>\n      <td>Intel</td>\n      <td>Mac</td>\n    </tr>\n  </tbody>\n</table>\n</div>"
     },
     "execution_count": 399,
     "metadata": {},
     "output_type": "execute_result"
    }
   ],
   "source": [
    "df.head()"
   ],
   "metadata": {
    "collapsed": false,
    "ExecuteTime": {
     "end_time": "2024-07-02T08:47:09.514698Z",
     "start_time": "2024-07-02T08:47:09.504187Z"
    }
   },
   "id": "eb96372a4b4d9366",
   "execution_count": 399
  },
  {
   "cell_type": "code",
   "outputs": [
    {
     "name": "stdout",
     "output_type": "stream",
     "text": [
      "<class 'pandas.core.frame.DataFrame'>\n",
      "RangeIndex: 1303 entries, 0 to 1302\n",
      "Data columns (total 13 columns):\n",
      " #   Column         Non-Null Count  Dtype  \n",
      "---  ------         --------------  -----  \n",
      " 0   Company        1303 non-null   object \n",
      " 1   TypeName       1303 non-null   object \n",
      " 2   Ram            1303 non-null   int32  \n",
      " 3   Weight         1303 non-null   float32\n",
      " 4   Price          1303 non-null   float64\n",
      " 5   isTouchScreen  1303 non-null   int64  \n",
      " 6   isIPS          1303 non-null   int64  \n",
      " 7   PPI            1303 non-null   float64\n",
      " 8   Processor      1303 non-null   object \n",
      " 9   SSD            1303 non-null   int32  \n",
      " 10  HDD            1303 non-null   int32  \n",
      " 11  Gpu Brand      1303 non-null   object \n",
      " 12  Os             1303 non-null   object \n",
      "dtypes: float32(1), float64(2), int32(3), int64(2), object(5)\n",
      "memory usage: 112.1+ KB\n"
     ]
    }
   ],
   "source": [
    "df.info()"
   ],
   "metadata": {
    "collapsed": false,
    "ExecuteTime": {
     "end_time": "2024-07-02T08:47:09.520774Z",
     "start_time": "2024-07-02T08:47:09.515503Z"
    }
   },
   "id": "2ed148a0d4c38fe1",
   "execution_count": 400
  },
  {
   "cell_type": "code",
   "outputs": [
    {
     "name": "stdout",
     "output_type": "stream",
     "text": [
      "R2 score 0.880348343561797\n",
      "MAE 0.16787406548302322\n"
     ]
    }
   ],
   "source": [
    "step1 = ColumnTransformer(transformers=[\n",
    "    ('col_tnf',OneHotEncoder(sparse_output=False,drop='first'),['Company', 'TypeName',  'Processor', 'Os', 'Gpu Brand'])\n",
    "],remainder='passthrough')\n",
    "\n",
    "estimators = [\n",
    "    ('rf', RandomForestRegressor(n_estimators=350,random_state=3,max_samples=0.5,max_features=0.75,max_depth=15)),\n",
    "    ('gbdt',GradientBoostingRegressor(n_estimators=100,max_features=0.5)),\n",
    "    ('knn',  KNeighborsRegressor(n_neighbors=3))\n",
    "]\n",
    "\n",
    "step2 = StackingRegressor(estimators=estimators, final_estimator=Ridge(alpha=100))\n",
    "\n",
    "pipe = Pipeline([\n",
    "    ('step1',step1),\n",
    "    ('step2',step2)\n",
    "])\n",
    "\n",
    "pipe.fit(train_x,train_y)\n",
    "\n",
    "y_pred = pipe.predict(test_x)\n",
    "\n",
    "print('R2 score',r2_score(test_y,y_pred))\n",
    "print('MAE',mean_absolute_error(test_y,y_pred))"
   ],
   "metadata": {
    "collapsed": false,
    "ExecuteTime": {
     "end_time": "2024-07-02T08:47:12.454492Z",
     "start_time": "2024-07-02T08:47:09.522093Z"
    }
   },
   "id": "da8e829a86d025a6",
   "execution_count": 401
  },
  {
   "cell_type": "markdown",
   "source": [
    "# Pickle Dumping"
   ],
   "metadata": {
    "collapsed": false
   },
   "id": "92911afbe4488c2c"
  },
  {
   "cell_type": "code",
   "outputs": [],
   "source": [
    "pickle.dump(pipe, open('pipe.pkl', 'wb'))\n",
    "pickle.dump(train_x, open('train.pkl', 'wb'))\n",
    "pickle.dump(train_x, open('df.pkl', 'wb'))"
   ],
   "metadata": {
    "collapsed": false,
    "ExecuteTime": {
     "end_time": "2024-07-02T08:47:12.489522Z",
     "start_time": "2024-07-02T08:47:12.455963Z"
    }
   },
   "id": "54c185ae90b4108f",
   "execution_count": 402
  },
  {
   "cell_type": "code",
   "outputs": [
    {
     "data": {
      "text/plain": "     Company  TypeName  Ram  Weight  isTouchScreen  isIPS        PPI  \\\n183  Toshiba  Notebook    8     2.0              0      0  100.45467   \n\n         Processor  SSD  HDD Gpu Brand       Os  \n183  Intel Core i5  128    0     Intel  Windows  ",
      "text/html": "<div>\n<style scoped>\n    .dataframe tbody tr th:only-of-type {\n        vertical-align: middle;\n    }\n\n    .dataframe tbody tr th {\n        vertical-align: top;\n    }\n\n    .dataframe thead th {\n        text-align: right;\n    }\n</style>\n<table border=\"1\" class=\"dataframe\">\n  <thead>\n    <tr style=\"text-align: right;\">\n      <th></th>\n      <th>Company</th>\n      <th>TypeName</th>\n      <th>Ram</th>\n      <th>Weight</th>\n      <th>isTouchScreen</th>\n      <th>isIPS</th>\n      <th>PPI</th>\n      <th>Processor</th>\n      <th>SSD</th>\n      <th>HDD</th>\n      <th>Gpu Brand</th>\n      <th>Os</th>\n    </tr>\n  </thead>\n  <tbody>\n    <tr>\n      <th>183</th>\n      <td>Toshiba</td>\n      <td>Notebook</td>\n      <td>8</td>\n      <td>2.0</td>\n      <td>0</td>\n      <td>0</td>\n      <td>100.45467</td>\n      <td>Intel Core i5</td>\n      <td>128</td>\n      <td>0</td>\n      <td>Intel</td>\n      <td>Windows</td>\n    </tr>\n  </tbody>\n</table>\n</div>"
     },
     "execution_count": 403,
     "metadata": {},
     "output_type": "execute_result"
    }
   ],
   "source": [
    "train_x.head(1)"
   ],
   "metadata": {
    "collapsed": false,
    "ExecuteTime": {
     "end_time": "2024-07-02T08:47:12.496779Z",
     "start_time": "2024-07-02T08:47:12.490360Z"
    }
   },
   "id": "e51dca7b8f8aa13f",
   "execution_count": 403
  },
  {
   "cell_type": "code",
   "outputs": [
    {
     "name": "stdout",
     "output_type": "stream",
     "text": [
      "<class 'pandas.core.frame.DataFrame'>\n",
      "Index: 196 entries, 248 to 471\n",
      "Data columns (total 12 columns):\n",
      " #   Column         Non-Null Count  Dtype  \n",
      "---  ------         --------------  -----  \n",
      " 0   Company        196 non-null    object \n",
      " 1   TypeName       196 non-null    object \n",
      " 2   Ram            196 non-null    int32  \n",
      " 3   Weight         196 non-null    float32\n",
      " 4   isTouchScreen  196 non-null    int64  \n",
      " 5   isIPS          196 non-null    int64  \n",
      " 6   PPI            196 non-null    float64\n",
      " 7   Processor      196 non-null    object \n",
      " 8   SSD            196 non-null    int32  \n",
      " 9   HDD            196 non-null    int32  \n",
      " 10  Gpu Brand      196 non-null    object \n",
      " 11  Os             196 non-null    object \n",
      "dtypes: float32(1), float64(1), int32(3), int64(2), object(5)\n",
      "memory usage: 16.8+ KB\n"
     ]
    }
   ],
   "source": [
    "test_x.info()"
   ],
   "metadata": {
    "collapsed": false,
    "ExecuteTime": {
     "end_time": "2024-07-02T08:47:12.503877Z",
     "start_time": "2024-07-02T08:47:12.497694Z"
    }
   },
   "id": "8dd970d3991af312",
   "execution_count": 404
  },
  {
   "cell_type": "code",
   "outputs": [],
   "source": [
    "# test_array1 = pd.DataFrame(['Toshiba', 'Notebook', 8, 2.0, 0, 0, 0, 100.45467, 'Intel Core i5', 128, 0, 0, 0, 'AMD', 'Windows'])"
   ],
   "metadata": {
    "collapsed": false,
    "ExecuteTime": {
     "end_time": "2024-07-02T08:47:12.507035Z",
     "start_time": "2024-07-02T08:47:12.505144Z"
    }
   },
   "id": "41bbf0a8695e1179",
   "execution_count": 405
  },
  {
   "cell_type": "code",
   "outputs": [
    {
     "name": "stdout",
     "output_type": "stream",
     "text": [
      "<class 'pandas.core.frame.DataFrame'>\n",
      "RangeIndex: 1 entries, 0 to 0\n",
      "Data columns (total 12 columns):\n",
      " #   Column         Non-Null Count  Dtype  \n",
      "---  ------         --------------  -----  \n",
      " 0   Company        1 non-null      object \n",
      " 1   TypeName       1 non-null      object \n",
      " 2   Ram            1 non-null      int64  \n",
      " 3   Weight         1 non-null      float64\n",
      " 4   isTouchScreen  1 non-null      int64  \n",
      " 5   isIPS          1 non-null      int64  \n",
      " 6   PPI            1 non-null      float64\n",
      " 7   Processor      1 non-null      object \n",
      " 8   SSD            1 non-null      int64  \n",
      " 9   HDD            1 non-null      int64  \n",
      " 10  Gpu Brand      1 non-null      object \n",
      " 11  Os             1 non-null      object \n",
      "dtypes: float64(2), int64(5), object(5)\n",
      "memory usage: 228.0+ bytes\n",
      "None\n",
      "40287.043078680465\n"
     ]
    }
   ],
   "source": [
    "# Assuming 'train_x' has been defined and has the correct column names and data types\n",
    "\n",
    "# Create test_array1 with the same structure as train_x\n",
    "test_array1 = pd.DataFrame([['Toshiba', 'Notebook', 8, 2.0, 0, 0, 100.45467, 'Intel Core i5', 128, 0, 'AMD', 'Windows']],\n",
    "                           columns=train_x.columns)\n",
    "print(test_array1.info())\n",
    "# Make a prediction\n",
    "prediction = pipe.predict(test_array1)\n",
    "print(np.exp(prediction)[0])"
   ],
   "metadata": {
    "collapsed": false,
    "ExecuteTime": {
     "end_time": "2024-07-02T08:47:12.522384Z",
     "start_time": "2024-07-02T08:47:12.508034Z"
    }
   },
   "id": "62803598503b9cce",
   "execution_count": 406
  },
  {
   "cell_type": "code",
   "outputs": [
    {
     "data": {
      "text/plain": "pandas.core.frame.DataFrame"
     },
     "execution_count": 407,
     "metadata": {},
     "output_type": "execute_result"
    }
   ],
   "source": [
    "type(test_array1)"
   ],
   "metadata": {
    "collapsed": false,
    "ExecuteTime": {
     "end_time": "2024-07-02T08:47:12.527169Z",
     "start_time": "2024-07-02T08:47:12.524927Z"
    }
   },
   "id": "fa936a3e6d1093f1",
   "execution_count": 407
  },
  {
   "cell_type": "code",
   "outputs": [
    {
     "data": {
      "text/plain": "   Company  TypeName  Ram  Weight  isTouchScreen  isIPS        PPI  \\\n0  Toshiba  Notebook    8     2.0              0      0  100.45467   \n\n       Processor  SSD  HDD Gpu Brand       Os  \n0  Intel Core i5  128    0       AMD  Windows  ",
      "text/html": "<div>\n<style scoped>\n    .dataframe tbody tr th:only-of-type {\n        vertical-align: middle;\n    }\n\n    .dataframe tbody tr th {\n        vertical-align: top;\n    }\n\n    .dataframe thead th {\n        text-align: right;\n    }\n</style>\n<table border=\"1\" class=\"dataframe\">\n  <thead>\n    <tr style=\"text-align: right;\">\n      <th></th>\n      <th>Company</th>\n      <th>TypeName</th>\n      <th>Ram</th>\n      <th>Weight</th>\n      <th>isTouchScreen</th>\n      <th>isIPS</th>\n      <th>PPI</th>\n      <th>Processor</th>\n      <th>SSD</th>\n      <th>HDD</th>\n      <th>Gpu Brand</th>\n      <th>Os</th>\n    </tr>\n  </thead>\n  <tbody>\n    <tr>\n      <th>0</th>\n      <td>Toshiba</td>\n      <td>Notebook</td>\n      <td>8</td>\n      <td>2.0</td>\n      <td>0</td>\n      <td>0</td>\n      <td>100.45467</td>\n      <td>Intel Core i5</td>\n      <td>128</td>\n      <td>0</td>\n      <td>AMD</td>\n      <td>Windows</td>\n    </tr>\n  </tbody>\n</table>\n</div>"
     },
     "execution_count": 408,
     "metadata": {},
     "output_type": "execute_result"
    }
   ],
   "source": [
    "test_array1"
   ],
   "metadata": {
    "collapsed": false,
    "ExecuteTime": {
     "end_time": "2024-07-02T08:47:12.532576Z",
     "start_time": "2024-07-02T08:47:12.527998Z"
    }
   },
   "id": "a8c5d831e1c91dcc",
   "execution_count": 408
  },
  {
   "cell_type": "code",
   "outputs": [],
   "source": [
    "test_array2 = train_x.head(1)"
   ],
   "metadata": {
    "collapsed": false,
    "ExecuteTime": {
     "end_time": "2024-07-02T08:47:12.535328Z",
     "start_time": "2024-07-02T08:47:12.533449Z"
    }
   },
   "id": "f23c984092b17a7b",
   "execution_count": 409
  },
  {
   "cell_type": "code",
   "outputs": [
    {
     "data": {
      "text/plain": "pandas.core.frame.DataFrame"
     },
     "execution_count": 410,
     "metadata": {},
     "output_type": "execute_result"
    }
   ],
   "source": [
    "type(test_array2)"
   ],
   "metadata": {
    "collapsed": false,
    "ExecuteTime": {
     "end_time": "2024-07-02T08:47:12.538711Z",
     "start_time": "2024-07-02T08:47:12.535991Z"
    }
   },
   "id": "ee3a8e2773cbf591",
   "execution_count": 410
  },
  {
   "cell_type": "code",
   "outputs": [
    {
     "data": {
      "text/plain": "     Company  TypeName  Ram  Weight  isTouchScreen  isIPS        PPI  \\\n183  Toshiba  Notebook    8     2.0              0      0  100.45467   \n\n         Processor  SSD  HDD Gpu Brand       Os  \n183  Intel Core i5  128    0     Intel  Windows  ",
      "text/html": "<div>\n<style scoped>\n    .dataframe tbody tr th:only-of-type {\n        vertical-align: middle;\n    }\n\n    .dataframe tbody tr th {\n        vertical-align: top;\n    }\n\n    .dataframe thead th {\n        text-align: right;\n    }\n</style>\n<table border=\"1\" class=\"dataframe\">\n  <thead>\n    <tr style=\"text-align: right;\">\n      <th></th>\n      <th>Company</th>\n      <th>TypeName</th>\n      <th>Ram</th>\n      <th>Weight</th>\n      <th>isTouchScreen</th>\n      <th>isIPS</th>\n      <th>PPI</th>\n      <th>Processor</th>\n      <th>SSD</th>\n      <th>HDD</th>\n      <th>Gpu Brand</th>\n      <th>Os</th>\n    </tr>\n  </thead>\n  <tbody>\n    <tr>\n      <th>183</th>\n      <td>Toshiba</td>\n      <td>Notebook</td>\n      <td>8</td>\n      <td>2.0</td>\n      <td>0</td>\n      <td>0</td>\n      <td>100.45467</td>\n      <td>Intel Core i5</td>\n      <td>128</td>\n      <td>0</td>\n      <td>Intel</td>\n      <td>Windows</td>\n    </tr>\n  </tbody>\n</table>\n</div>"
     },
     "execution_count": 411,
     "metadata": {},
     "output_type": "execute_result"
    }
   ],
   "source": [
    "test_array2"
   ],
   "metadata": {
    "collapsed": false,
    "ExecuteTime": {
     "end_time": "2024-07-02T08:47:12.545137Z",
     "start_time": "2024-07-02T08:47:12.539755Z"
    }
   },
   "id": "5097a646e7a1ec30",
   "execution_count": 411
  },
  {
   "cell_type": "code",
   "outputs": [
    {
     "data": {
      "text/plain": "array([10.60378518])"
     },
     "execution_count": 412,
     "metadata": {},
     "output_type": "execute_result"
    }
   ],
   "source": [
    "pipe.predict(test_array1)"
   ],
   "metadata": {
    "collapsed": false,
    "ExecuteTime": {
     "end_time": "2024-07-02T08:47:12.560033Z",
     "start_time": "2024-07-02T08:47:12.545975Z"
    }
   },
   "id": "7e3b44f3624270b8",
   "execution_count": 412
  },
  {
   "cell_type": "code",
   "outputs": [
    {
     "data": {
      "text/plain": "np.float64(42420.98615755116)"
     },
     "execution_count": 413,
     "metadata": {},
     "output_type": "execute_result"
    }
   ],
   "source": [
    "np.exp(pipe.predict(test_array2)[0])"
   ],
   "metadata": {
    "collapsed": false,
    "ExecuteTime": {
     "end_time": "2024-07-02T08:47:12.574854Z",
     "start_time": "2024-07-02T08:47:12.560867Z"
    }
   },
   "id": "7c7acd98c4a272bc",
   "execution_count": 413
  },
  {
   "cell_type": "code",
   "outputs": [],
   "source": [],
   "metadata": {
    "collapsed": false,
    "ExecuteTime": {
     "end_time": "2024-07-02T08:47:12.576939Z",
     "start_time": "2024-07-02T08:47:12.575517Z"
    }
   },
   "id": "d4f33220f49dbbfb",
   "execution_count": 413
  }
 ],
 "metadata": {
  "kernelspec": {
   "display_name": "Python 3",
   "language": "python",
   "name": "python3"
  },
  "language_info": {
   "codemirror_mode": {
    "name": "ipython",
    "version": 2
   },
   "file_extension": ".py",
   "mimetype": "text/x-python",
   "name": "python",
   "nbconvert_exporter": "python",
   "pygments_lexer": "ipython2",
   "version": "2.7.6"
  }
 },
 "nbformat": 4,
 "nbformat_minor": 5
}
